{
 "cells": [
  {
   "cell_type": "markdown",
   "metadata": {},
   "source": [
    "## scikit-learn sample_weight compliance report\n",
    "\n",
    "This notebook runs compliance tests on all scikit-learn estimators. Estimator as inspected to check whether they are expected to have a stochastic fit or not. If the fit is stochastic, a dedicated statistical test is performed, otherwise a deterministic estimator check is run instead."
   ]
  },
  {
   "cell_type": "code",
   "execution_count": 1,
   "metadata": {},
   "outputs": [
    {
     "name": "stdout",
     "output_type": "stream",
     "text": [
      "\n",
      "System:\n",
      "    python: 3.12.4 | packaged by conda-forge | (main, Jun 17 2024, 10:13:44) [Clang 16.0.6 ]\n",
      "executable: /Users/shrutinath/micromamba/envs/scikit-learn/bin/python\n",
      "   machine: macOS-14.3-arm64-arm-64bit\n",
      "\n",
      "Python dependencies:\n",
      "      sklearn: 1.7.dev0\n",
      "          pip: 24.0\n",
      "   setuptools: 75.8.0\n",
      "        numpy: 2.0.0\n",
      "        scipy: 1.14.0\n",
      "       Cython: 3.0.10\n",
      "       pandas: 2.2.2\n",
      "   matplotlib: 3.9.0\n",
      "       joblib: 1.4.2\n",
      "threadpoolctl: 3.5.0\n",
      "\n",
      "Built with OpenMP: True\n",
      "\n",
      "threadpoolctl info:\n",
      "       user_api: blas\n",
      "   internal_api: openblas\n",
      "    num_threads: 8\n",
      "         prefix: libopenblas\n",
      "       filepath: /Users/shrutinath/micromamba/envs/scikit-learn/lib/libopenblas.0.dylib\n",
      "        version: 0.3.27\n",
      "threading_layer: openmp\n",
      "   architecture: VORTEX\n",
      "\n",
      "       user_api: openmp\n",
      "   internal_api: openmp\n",
      "    num_threads: 8\n",
      "         prefix: libomp\n",
      "       filepath: /Users/shrutinath/micromamba/envs/scikit-learn/lib/libomp.dylib\n",
      "        version: None\n"
     ]
    }
   ],
   "source": [
    "import sklearn\n",
    "\n",
    "sklearn.show_versions()"
   ]
  },
  {
   "cell_type": "code",
   "execution_count": 2,
   "metadata": {},
   "outputs": [],
   "source": [
    "from inspect import signature\n",
    "import traceback\n",
    "import warnings\n",
    "import pandas as pd\n",
    "from sklearn.utils import all_estimators\n",
    "from sklearn.exceptions import ConvergenceWarning\n",
    "from sklearn.pipeline import Pipeline\n",
    "from sklearn.preprocessing import KBinsDiscretizer\n",
    "import threadpoolctl\n",
    "\n",
    "import sys\n",
    "sys.path.insert(1,'../src/')\n",
    "from sample_weight_audit import check_weighted_repeated_estimator_fit_equivalence\n",
    "from sample_weight_audit.sklearn_stochastic_params import STOCHASTIC_FIT_PARAMS\n",
    "\n",
    "# HistGradientBoostingClassifier trashes the OpenMP thread pool on repeated\n",
    "# small fits.\n",
    "threadpoolctl.threadpool_limits(limits=1, user_api=\"openmp\")\n",
    "warnings.filterwarnings(\"ignore\", category=RuntimeWarning)  # division by zero in AdaBoost\n",
    "warnings.filterwarnings(\"ignore\", category=ConvergenceWarning)  # liblinear can fail to converge\n",
    "warnings.filterwarnings(\"ignore\", category=UserWarning)  # KBinsDiscretizer with collapsed bins"
   ]
  },
  {
   "cell_type": "code",
   "execution_count": 3,
   "metadata": {},
   "outputs": [],
   "source": [
    "from sklearn.linear_model import LogisticRegressionCV\n",
    "\n",
    "ESTIMATORS_TO_SKIP = [\n",
    "    LogisticRegressionCV,  # too slow and already somewhat tested by LogisticRegression\n",
    "]"
   ]
  },
  {
   "cell_type": "code",
   "execution_count": null,
   "metadata": {},
   "outputs": [],
   "source": [
    "from sklearn.utils._testing import  assert_allclose_dense_sparse,set_random_state\n",
    "from sklearn.base import clone\n",
    "import numpy as np\n",
    "from sklearn.utils import shuffle\n",
    "from sklearn.utils.estimator_checks import (\n",
    "    _enforce_estimator_tags_y,\n",
    ")\n",
    "\n",
    "def check_sample_weight_scaling(estimator_orig):\n",
    "    # check that setting sample_weight to zero / integer is equivalent\n",
    "    # to removing / repeating corresponding samples.\n",
    "    estimator_1= clone(estimator_orig())\n",
    "    estimator_2 = clone(estimator_orig())\n",
    "    set_random_state(estimator_1, random_state=0)\n",
    "    set_random_state(estimator_2, random_state=0)\n",
    "\n",
    "    rng = np.random.RandomState(42)\n",
    "    n_samples = 15\n",
    "    X = rng.rand(n_samples, n_samples * 2)\n",
    "    y = rng.randint(0, 3, size=n_samples)\n",
    "\n",
    "    X, y = shuffle(X, y, random_state=0)\n",
    "    y = _enforce_estimator_tags_y(estimator_1, y)\n",
    "\n",
    "    estimator_1.fit(X, y=y, sample_weight=1)\n",
    "    estimator_2.fit(X, y=y, sample_weight=2)\n",
    "\n",
    "    for method in [\"predict_proba\", \"decision_function\", \"predict\", \"transform\"]:\n",
    "        if hasattr(estimator_orig, method):\n",
    "            X_pred1 = getattr(estimator_1, method)(X)\n",
    "            X_pred2 = getattr(estimator_2, method)(X)\n",
    "            err_msg = (\n",
    "                f\"Comparing the output of {estimator_orig.__name__}.{method} revealed that fitting \"\n",
    "                \"with `sample_weight` is not equivalent to fitting with\"\n",
    "                \"`sample_weight*scaling_factor`.\"\n",
    "            )\n",
    "            assert_allclose_dense_sparse(X_pred1, X_pred2, err_msg=err_msg)\n"
   ]
  },
  {
   "cell_type": "code",
   "execution_count": 4,
   "metadata": {},
   "outputs": [
    {
     "name": "stdout",
     "output_type": "stream",
     "text": [
      "⚠ ARDRegression does not support sample_weight\n",
      "Evaluating AdaBoostClassifier(estimator=DecisionTreeClassifier(max_features=0.5,\n",
      "                                                    min_weight_fraction_leaf=0.1))\n"
     ]
    },
    {
     "name": "stderr",
     "output_type": "stream",
     "text": [
      "100%|██████████| 100/100 [00:06<00:00, 16.63it/s]\n"
     ]
    },
    {
     "name": "stdout",
     "output_type": "stream",
     "text": [
      "✅ AdaBoostClassifier: (pvalue: 0.702)\n",
      "Evaluating AdaBoostRegressor(estimator=DecisionTreeRegressor(max_features=0.5,\n",
      "                                                  min_weight_fraction_leaf=0.1))\n"
     ]
    },
    {
     "name": "stderr",
     "output_type": "stream",
     "text": [
      "100%|██████████| 100/100 [00:04<00:00, 20.93it/s]\n"
     ]
    },
    {
     "name": "stdout",
     "output_type": "stream",
     "text": [
      "✅ AdaBoostRegressor: (pvalue: 0.036)\n",
      "⚠ AdditiveChi2Sampler does not support sample_weight\n",
      "⚠ AffinityPropagation does not support sample_weight\n",
      "⚠ AgglomerativeClustering does not support sample_weight\n",
      "Evaluating BaggingClassifier(estimator=LogisticRegression())\n"
     ]
    },
    {
     "name": "stderr",
     "output_type": "stream",
     "text": [
      "100%|██████████| 100/100 [00:03<00:00, 33.22it/s]\n"
     ]
    },
    {
     "name": "stdout",
     "output_type": "stream",
     "text": [
      "❌ BaggingClassifier: (pvalue: 0.000)\n",
      "Evaluating BaggingRegressor(estimator=Ridge())\n"
     ]
    },
    {
     "name": "stderr",
     "output_type": "stream",
     "text": [
      "100%|██████████| 100/100 [00:01<00:00, 86.43it/s]\n"
     ]
    },
    {
     "name": "stdout",
     "output_type": "stream",
     "text": [
      "❌ BaggingRegressor: (pvalue: 0.000)\n",
      "Evaluating BayesianRidge()\n"
     ]
    },
    {
     "name": "stderr",
     "output_type": "stream",
     "text": [
      "100%|██████████| 1/1 [00:00<00:00, 509.39it/s]\n"
     ]
    },
    {
     "name": "stdout",
     "output_type": "stream",
     "text": [
      "✅ BayesianRidge: (pvalue: 1.000)\n",
      "Evaluating BernoulliNB()\n"
     ]
    },
    {
     "name": "stderr",
     "output_type": "stream",
     "text": [
      "100%|██████████| 1/1 [00:00<00:00, 445.21it/s]\n"
     ]
    },
    {
     "name": "stdout",
     "output_type": "stream",
     "text": [
      "✅ BernoulliNB: (pvalue: 1.000)\n",
      "⚠ BernoulliRBM does not support sample_weight\n",
      "⚠ Binarizer does not support sample_weight\n",
      "⚠ Birch does not support sample_weight\n",
      "Evaluating BisectingKMeans(n_clusters=10)\n"
     ]
    },
    {
     "name": "stderr",
     "output_type": "stream",
     "text": [
      "100%|██████████| 100/100 [00:00<00:00, 291.72it/s]\n"
     ]
    },
    {
     "name": "stdout",
     "output_type": "stream",
     "text": [
      "✅ BisectingKMeans: (pvalue: 1.000)\n",
      "⚠ CCA does not support sample_weight\n",
      "Evaluating CalibratedClassifierCV()\n"
     ]
    },
    {
     "name": "stderr",
     "output_type": "stream",
     "text": [
      "100%|██████████| 1/1 [00:00<00:00, 83.94it/s]\n"
     ]
    },
    {
     "name": "stdout",
     "output_type": "stream",
     "text": [
      "✅ CalibratedClassifierCV: (pvalue: 1.000)\n",
      "Evaluating Pipeline(steps=[('kbinsdiscretizer',\n",
      "                 KBinsDiscretizer(encode='ordinal',\n",
      "                                  quantile_method='averaged_inverted_cdf')),\n",
      "                ('est', CategoricalNB())])\n"
     ]
    },
    {
     "name": "stderr",
     "output_type": "stream",
     "text": [
      "100%|██████████| 1/1 [00:00<00:00, 209.33it/s]\n"
     ]
    },
    {
     "name": "stdout",
     "output_type": "stream",
     "text": [
      "✅ CategoricalNB: (pvalue: 1.000)\n",
      "⚠ ClassifierChain does not support sample_weight\n",
      "⚠ ColumnTransformer does not support sample_weight\n",
      "Evaluating ComplementNB()\n"
     ]
    },
    {
     "name": "stderr",
     "output_type": "stream",
     "text": [
      "100%|██████████| 1/1 [00:00<00:00, 462.28it/s]\n"
     ]
    },
    {
     "name": "stdout",
     "output_type": "stream",
     "text": [
      "✅ ComplementNB: (pvalue: 1.000)\n",
      "Evaluating DBSCAN()\n"
     ]
    },
    {
     "name": "stderr",
     "output_type": "stream",
     "text": [
      "100%|██████████| 1/1 [00:00<00:00, 98.68it/s]\n"
     ]
    },
    {
     "name": "stdout",
     "output_type": "stream",
     "text": [
      "✅ DBSCAN: (pvalue: 1.000)\n",
      "Evaluating DecisionTreeClassifier(max_features=0.5, min_weight_fraction_leaf=0.1)\n"
     ]
    },
    {
     "name": "stderr",
     "output_type": "stream",
     "text": [
      "100%|██████████| 100/100 [00:00<00:00, 653.12it/s]\n"
     ]
    },
    {
     "name": "stdout",
     "output_type": "stream",
     "text": [
      "✅ DecisionTreeClassifier: (pvalue: 0.702)\n",
      "Evaluating DecisionTreeRegressor(max_features=0.5)\n"
     ]
    },
    {
     "name": "stderr",
     "output_type": "stream",
     "text": [
      "100%|██████████| 100/100 [00:00<00:00, 881.15it/s]\n"
     ]
    },
    {
     "name": "stdout",
     "output_type": "stream",
     "text": [
      "✅ DecisionTreeRegressor: (pvalue: 0.211)\n",
      "⚠ DictVectorizer does not support sample_weight\n",
      "⚠ DictionaryLearning does not support sample_weight\n",
      "Evaluating DummyClassifier(strategy='stratified')\n"
     ]
    },
    {
     "name": "stderr",
     "output_type": "stream",
     "text": [
      "100%|██████████| 100/100 [00:00<00:00, 894.56it/s]\n"
     ]
    },
    {
     "name": "stdout",
     "output_type": "stream",
     "text": [
      "✅ DummyClassifier: (pvalue: 0.155)\n",
      "Evaluating DummyRegressor()\n"
     ]
    },
    {
     "name": "stderr",
     "output_type": "stream",
     "text": [
      "100%|██████████| 1/1 [00:00<00:00, 1626.33it/s]\n"
     ]
    },
    {
     "name": "stdout",
     "output_type": "stream",
     "text": [
      "✅ DummyRegressor: (pvalue: 1.000)\n",
      "Evaluating ElasticNet(selection='random')\n"
     ]
    },
    {
     "name": "stderr",
     "output_type": "stream",
     "text": [
      "100%|██████████| 100/100 [00:00<00:00, 941.77it/s]\n"
     ]
    },
    {
     "name": "stdout",
     "output_type": "stream",
     "text": [
      "✅ ElasticNet: (pvalue: 0.368)\n",
      "Evaluating ElasticNetCV(selection='random')\n"
     ]
    },
    {
     "name": "stderr",
     "output_type": "stream",
     "text": [
      "100%|██████████| 100/100 [00:01<00:00, 57.03it/s]\n"
     ]
    },
    {
     "name": "stdout",
     "output_type": "stream",
     "text": [
      "✅ ElasticNetCV: (pvalue: 0.470)\n",
      "Evaluating ExtraTreeClassifier()\n"
     ]
    },
    {
     "name": "stderr",
     "output_type": "stream",
     "text": [
      "100%|██████████| 100/100 [00:00<00:00, 637.09it/s]\n"
     ]
    },
    {
     "name": "stdout",
     "output_type": "stream",
     "text": [
      "✅ ExtraTreeClassifier: (pvalue: 0.815)\n",
      "Evaluating ExtraTreeRegressor()\n"
     ]
    },
    {
     "name": "stderr",
     "output_type": "stream",
     "text": [
      "100%|██████████| 100/100 [00:00<00:00, 871.76it/s]\n"
     ]
    },
    {
     "name": "stdout",
     "output_type": "stream",
     "text": [
      "✅ ExtraTreeRegressor: (pvalue: 0.282)\n",
      "Evaluating ExtraTreesClassifier()\n"
     ]
    },
    {
     "name": "stderr",
     "output_type": "stream",
     "text": [
      "100%|██████████| 100/100 [00:07<00:00, 13.10it/s]\n"
     ]
    },
    {
     "name": "stdout",
     "output_type": "stream",
     "text": [
      "✅ ExtraTreesClassifier: (pvalue: 0.968)\n",
      "Evaluating ExtraTreesRegressor()\n"
     ]
    },
    {
     "name": "stderr",
     "output_type": "stream",
     "text": [
      "100%|██████████| 100/100 [00:06<00:00, 14.57it/s]\n"
     ]
    },
    {
     "name": "stdout",
     "output_type": "stream",
     "text": [
      "✅ ExtraTreesRegressor: (pvalue: 0.282)\n",
      "⚠ FactorAnalysis does not support sample_weight\n",
      "⚠ FastICA does not support sample_weight\n",
      "⚠ FeatureAgglomeration does not support sample_weight\n",
      "⚠ FeatureHasher does not support sample_weight\n",
      "⚠ FeatureUnion does not support sample_weight\n",
      "⚠ FixedThresholdClassifier does not support sample_weight\n",
      "⚠ FunctionTransformer does not support sample_weight\n",
      "Evaluating GammaRegressor()\n"
     ]
    },
    {
     "name": "stderr",
     "output_type": "stream",
     "text": [
      "100%|██████████| 1/1 [00:00<00:00, 556.20it/s]\n"
     ]
    },
    {
     "name": "stdout",
     "output_type": "stream",
     "text": [
      "✅ GammaRegressor: (pvalue: 1.000)\n",
      "Evaluating GaussianNB()\n"
     ]
    },
    {
     "name": "stderr",
     "output_type": "stream",
     "text": [
      "100%|██████████| 1/1 [00:00<00:00, 350.40it/s]\n"
     ]
    },
    {
     "name": "stdout",
     "output_type": "stream",
     "text": [
      "✅ GaussianNB: (pvalue: 1.000)\n",
      "⚠ GaussianProcessClassifier does not support sample_weight\n",
      "⚠ GaussianProcessRegressor does not support sample_weight\n",
      "⚠ GaussianRandomProjection does not support sample_weight\n",
      "⚠ GenericUnivariateSelect does not support sample_weight\n",
      "Evaluating GradientBoostingClassifier(max_features=0.5)\n"
     ]
    },
    {
     "name": "stderr",
     "output_type": "stream",
     "text": [
      "100%|██████████| 100/100 [00:16<00:00,  6.05it/s]\n"
     ]
    },
    {
     "name": "stdout",
     "output_type": "stream",
     "text": [
      "✅ GradientBoostingClassifier: (pvalue: 0.211)\n",
      "Evaluating GradientBoostingRegressor(max_features=0.5)\n"
     ]
    },
    {
     "name": "stderr",
     "output_type": "stream",
     "text": [
      "100%|██████████| 100/100 [00:03<00:00, 28.74it/s]\n"
     ]
    },
    {
     "name": "stdout",
     "output_type": "stream",
     "text": [
      "✅ GradientBoostingRegressor: (pvalue: 0.111)\n",
      "⚠ HDBSCAN does not support sample_weight\n",
      "⚠ HashingVectorizer does not support sample_weight\n",
      "Evaluating HistGradientBoostingClassifier(max_features=0.5)\n"
     ]
    },
    {
     "name": "stderr",
     "output_type": "stream",
     "text": [
      "100%|██████████| 100/100 [00:06<00:00, 14.50it/s]\n"
     ]
    },
    {
     "name": "stdout",
     "output_type": "stream",
     "text": [
      "❌ HistGradientBoostingClassifier: (pvalue: 0.000)\n",
      "Evaluating HistGradientBoostingRegressor(max_features=0.5)\n"
     ]
    },
    {
     "name": "stderr",
     "output_type": "stream",
     "text": [
      "100%|██████████| 100/100 [00:02<00:00, 35.22it/s]\n"
     ]
    },
    {
     "name": "stdout",
     "output_type": "stream",
     "text": [
      "❌ HistGradientBoostingRegressor: (pvalue: 0.000)\n",
      "Evaluating HuberRegressor()\n"
     ]
    },
    {
     "name": "stderr",
     "output_type": "stream",
     "text": [
      "100%|██████████| 1/1 [00:00<00:00, 56.41it/s]\n"
     ]
    },
    {
     "name": "stdout",
     "output_type": "stream",
     "text": [
      "✅ HuberRegressor: (pvalue: 1.000)\n",
      "⚠ IncrementalPCA does not support sample_weight\n",
      "⚠ Isomap does not support sample_weight\n",
      "Evaluating IsotonicRegression()\n"
     ]
    },
    {
     "name": "stderr",
     "output_type": "stream",
     "text": [
      "100%|██████████| 1/1 [00:00<00:00, 821.61it/s]\n"
     ]
    },
    {
     "name": "stdout",
     "output_type": "stream",
     "text": [
      "✅ IsotonicRegression: (pvalue: 1.000)\n",
      "Evaluating KBinsDiscretizer(encode='ordinal', quantile_method='averaged_inverted_cdf',\n",
      "                 subsample=50)\n"
     ]
    },
    {
     "name": "stderr",
     "output_type": "stream",
     "text": [
      "100%|██████████| 100/100 [00:00<00:00, 370.12it/s]\n"
     ]
    },
    {
     "name": "stdout",
     "output_type": "stream",
     "text": [
      "✅ KBinsDiscretizer: (pvalue: 0.815)\n",
      "Evaluating KMeans(n_clusters=10)\n"
     ]
    },
    {
     "name": "stderr",
     "output_type": "stream",
     "text": [
      "100%|██████████| 100/100 [00:00<00:00, 460.65it/s]\n"
     ]
    },
    {
     "name": "stdout",
     "output_type": "stream",
     "text": [
      "✅ KMeans: (pvalue: 1.000)\n",
      "⚠ KNNImputer does not support sample_weight\n",
      "⚠ KNeighborsClassifier does not support sample_weight\n",
      "⚠ KNeighborsRegressor does not support sample_weight\n",
      "⚠ KNeighborsTransformer does not support sample_weight\n",
      "⚠ KernelCenterer does not support sample_weight\n",
      "⚠ KernelPCA does not support sample_weight\n",
      "Evaluating KernelRidge()\n"
     ]
    },
    {
     "name": "stderr",
     "output_type": "stream",
     "text": [
      "100%|██████████| 1/1 [00:00<00:00, 564.36it/s]\n"
     ]
    },
    {
     "name": "stdout",
     "output_type": "stream",
     "text": [
      "✅ KernelRidge: (pvalue: 1.000)\n",
      "⚠ LabelBinarizer does not support sample_weight\n",
      "⚠ LabelEncoder does not support sample_weight\n",
      "⚠ LabelPropagation does not support sample_weight\n",
      "⚠ LabelSpreading does not support sample_weight\n",
      "⚠ Lars does not support sample_weight\n",
      "⚠ LarsCV does not support sample_weight\n",
      "Evaluating Lasso(selection='random')\n"
     ]
    },
    {
     "name": "stderr",
     "output_type": "stream",
     "text": [
      "100%|██████████| 100/100 [00:00<00:00, 934.27it/s]\n"
     ]
    },
    {
     "name": "stdout",
     "output_type": "stream",
     "text": [
      "✅ Lasso: (pvalue: 1.000)\n",
      "Evaluating LassoCV(selection='random')\n"
     ]
    },
    {
     "name": "stderr",
     "output_type": "stream",
     "text": [
      "100%|██████████| 100/100 [00:01<00:00, 57.36it/s]\n"
     ]
    },
    {
     "name": "stdout",
     "output_type": "stream",
     "text": [
      "✅ LassoCV: (pvalue: 0.155)\n",
      "⚠ LassoLars does not support sample_weight\n",
      "⚠ LassoLarsCV does not support sample_weight\n",
      "⚠ LassoLarsIC does not support sample_weight\n",
      "⚠ LatentDirichletAllocation does not support sample_weight\n",
      "⚠ LinearDiscriminantAnalysis does not support sample_weight\n",
      "Evaluating LinearRegression()\n"
     ]
    },
    {
     "name": "stderr",
     "output_type": "stream",
     "text": [
      "100%|██████████| 1/1 [00:00<00:00, 952.39it/s]\n"
     ]
    },
    {
     "name": "stdout",
     "output_type": "stream",
     "text": [
      "✅ LinearRegression: (pvalue: 1.000)\n",
      "Evaluating LinearSVC(dual=True)\n"
     ]
    },
    {
     "name": "stderr",
     "output_type": "stream",
     "text": [
      "100%|██████████| 100/100 [00:00<00:00, 144.23it/s]\n"
     ]
    },
    {
     "name": "stdout",
     "output_type": "stream",
     "text": [
      "❌ LinearSVC: (pvalue: 0.000)\n",
      "Evaluating LinearSVR(dual=True)\n"
     ]
    },
    {
     "name": "stderr",
     "output_type": "stream",
     "text": [
      "100%|██████████| 100/100 [00:00<00:00, 196.30it/s]\n"
     ]
    },
    {
     "name": "stdout",
     "output_type": "stream",
     "text": [
      "❌ LinearSVR: (pvalue: 0.000)\n",
      "⚠ LocallyLinearEmbedding does not support sample_weight\n",
      "Evaluating LogisticRegression(dual=True, max_iter=100000, solver='liblinear')\n"
     ]
    },
    {
     "name": "stderr",
     "output_type": "stream",
     "text": [
      "100%|██████████| 100/100 [00:00<00:00, 375.83it/s]\n"
     ]
    },
    {
     "name": "stdout",
     "output_type": "stream",
     "text": [
      "❌ LogisticRegression: (pvalue: 0.000)\n",
      "Skipping LogisticRegressionCV\n",
      "Evaluating MLPClassifier()\n"
     ]
    },
    {
     "name": "stderr",
     "output_type": "stream",
     "text": [
      "100%|██████████| 100/100 [00:06<00:00, 16.55it/s]\n"
     ]
    },
    {
     "name": "stdout",
     "output_type": "stream",
     "text": [
      "✅ MLPClassifier: (pvalue: 0.054)\n",
      "Evaluating MLPRegressor()\n"
     ]
    },
    {
     "name": "stderr",
     "output_type": "stream",
     "text": [
      "100%|██████████| 100/100 [00:05<00:00, 18.97it/s]\n"
     ]
    },
    {
     "name": "stdout",
     "output_type": "stream",
     "text": [
      "✅ MLPRegressor: (pvalue: 0.368)\n",
      "⚠ MaxAbsScaler does not support sample_weight\n",
      "⚠ MeanShift does not support sample_weight\n",
      "⚠ MinMaxScaler does not support sample_weight\n",
      "⚠ MiniBatchDictionaryLearning does not support sample_weight\n",
      "Evaluating MiniBatchKMeans(n_clusters=10)\n"
     ]
    },
    {
     "name": "stderr",
     "output_type": "stream",
     "text": [
      "100%|██████████| 100/100 [00:00<00:00, 273.87it/s]\n"
     ]
    },
    {
     "name": "stdout",
     "output_type": "stream",
     "text": [
      "✅ MiniBatchKMeans: (pvalue: 1.000)\n",
      "⚠ MiniBatchNMF does not support sample_weight\n",
      "⚠ MiniBatchSparsePCA does not support sample_weight\n",
      "⚠ MissingIndicator does not support sample_weight\n",
      "⚠ MultiLabelBinarizer does not support sample_weight\n",
      "⚠ MultiOutputClassifier failed to instantiate: MultiOutputClassifier.__init__() missing 1 required positional argument: 'estimator'\n",
      "⚠ MultiOutputRegressor failed to instantiate: MultiOutputRegressor.__init__() missing 1 required positional argument: 'estimator'\n",
      "⚠ MultiTaskElasticNet does not support sample_weight\n",
      "⚠ MultiTaskElasticNetCV does not support sample_weight\n",
      "⚠ MultiTaskLasso does not support sample_weight\n",
      "⚠ MultiTaskLassoCV does not support sample_weight\n",
      "Evaluating MultinomialNB()\n"
     ]
    },
    {
     "name": "stderr",
     "output_type": "stream",
     "text": [
      "100%|██████████| 1/1 [00:00<00:00, 492.58it/s]\n"
     ]
    },
    {
     "name": "stdout",
     "output_type": "stream",
     "text": [
      "✅ MultinomialNB: (pvalue: 1.000)\n",
      "⚠ NMF does not support sample_weight\n",
      "⚠ NearestCentroid does not support sample_weight\n",
      "⚠ NeighborhoodComponentsAnalysis does not support sample_weight\n",
      "⚠ Normalizer does not support sample_weight\n",
      "Evaluating NuSVC(probability=True)\n"
     ]
    },
    {
     "name": "stderr",
     "output_type": "stream",
     "text": [
      "100%|██████████| 100/100 [00:00<00:00, 116.74it/s]\n"
     ]
    },
    {
     "name": "stdout",
     "output_type": "stream",
     "text": [
      "❌ NuSVC: (pvalue: 0.000)\n",
      "Evaluating NuSVR()\n"
     ]
    },
    {
     "name": "stderr",
     "output_type": "stream",
     "text": [
      "100%|██████████| 1/1 [00:00<00:00, 268.68it/s]\n"
     ]
    },
    {
     "name": "stdout",
     "output_type": "stream",
     "text": [
      "✅ NuSVR: (pvalue: 1.000)\n",
      "⚠ Nystroem does not support sample_weight\n",
      "⚠ OPTICS does not support sample_weight\n",
      "⚠ OneHotEncoder does not support sample_weight\n",
      "⚠ OneVsOneClassifier does not support sample_weight\n",
      "⚠ OneVsRestClassifier does not support sample_weight\n",
      "⚠ OrdinalEncoder does not support sample_weight\n",
      "⚠ OrthogonalMatchingPursuit does not support sample_weight\n",
      "⚠ OrthogonalMatchingPursuitCV does not support sample_weight\n",
      "⚠ OutputCodeClassifier does not support sample_weight\n",
      "⚠ PCA does not support sample_weight\n",
      "⚠ PLSCanonical does not support sample_weight\n",
      "⚠ PLSRegression does not support sample_weight\n",
      "⚠ PLSSVD does not support sample_weight\n",
      "⚠ PassiveAggressiveClassifier does not support sample_weight\n",
      "⚠ PassiveAggressiveRegressor does not support sample_weight\n",
      "⚠ PatchExtractor does not support sample_weight\n",
      "Evaluating Perceptron(max_iter=100000)\n"
     ]
    },
    {
     "name": "stderr",
     "output_type": "stream",
     "text": [
      "100%|██████████| 100/100 [00:00<00:00, 235.57it/s]\n"
     ]
    },
    {
     "name": "stdout",
     "output_type": "stream",
     "text": [
      "❌ Perceptron: (pvalue: 0.000)\n",
      "Evaluating PoissonRegressor()\n"
     ]
    },
    {
     "name": "stderr",
     "output_type": "stream",
     "text": [
      "100%|██████████| 1/1 [00:00<00:00, 521.61it/s]\n"
     ]
    },
    {
     "name": "stdout",
     "output_type": "stream",
     "text": [
      "✅ PoissonRegressor: (pvalue: 1.000)\n",
      "⚠ PolynomialCountSketch does not support sample_weight\n",
      "⚠ PolynomialFeatures does not support sample_weight\n",
      "⚠ PowerTransformer does not support sample_weight\n",
      "⚠ QuadraticDiscriminantAnalysis does not support sample_weight\n",
      "Evaluating QuantileRegressor()\n"
     ]
    },
    {
     "name": "stderr",
     "output_type": "stream",
     "text": [
      "100%|██████████| 1/1 [00:00<00:00, 214.97it/s]\n"
     ]
    },
    {
     "name": "stdout",
     "output_type": "stream",
     "text": [
      "✅ QuantileRegressor: (pvalue: 1.000)\n",
      "⚠ QuantileTransformer does not support sample_weight\n",
      "Evaluating RANSACRegressor()\n"
     ]
    },
    {
     "name": "stderr",
     "output_type": "stream",
     "text": [
      "  3%|▎         | 3/100 [00:00<00:03, 29.02it/s]\n"
     ]
    },
    {
     "name": "stdout",
     "output_type": "stream",
     "text": [
      "❌ RANSACRegressor() error with: Weights sum to zero, can't be normalized\n",
      "⚠ RBFSampler does not support sample_weight\n",
      "⚠ RFE does not support sample_weight\n",
      "⚠ RFECV does not support sample_weight\n",
      "⚠ RadiusNeighborsClassifier does not support sample_weight\n",
      "⚠ RadiusNeighborsRegressor does not support sample_weight\n",
      "⚠ RadiusNeighborsTransformer does not support sample_weight\n",
      "Evaluating RandomForestClassifier()\n"
     ]
    },
    {
     "name": "stderr",
     "output_type": "stream",
     "text": [
      "100%|██████████| 100/100 [00:09<00:00, 10.96it/s]\n"
     ]
    },
    {
     "name": "stdout",
     "output_type": "stream",
     "text": [
      "❌ RandomForestClassifier: (pvalue: 0.000)\n",
      "Evaluating RandomForestRegressor(max_features=0.5)\n"
     ]
    },
    {
     "name": "stderr",
     "output_type": "stream",
     "text": [
      "100%|██████████| 100/100 [00:08<00:00, 11.73it/s]\n"
     ]
    },
    {
     "name": "stdout",
     "output_type": "stream",
     "text": [
      "❌ RandomForestRegressor: (pvalue: 0.000)\n",
      "Evaluating RandomTreesEmbedding(n_estimators=10)\n"
     ]
    },
    {
     "name": "stderr",
     "output_type": "stream",
     "text": [
      "100%|██████████| 100/100 [00:01<00:00, 85.46it/s]\n"
     ]
    },
    {
     "name": "stdout",
     "output_type": "stream",
     "text": [
      "✅ RandomTreesEmbedding: (pvalue: 0.583)\n",
      "⚠ RegressorChain does not support sample_weight\n",
      "Evaluating Ridge(max_iter=100000, solver='sag')\n",
      "❌ Ridge(max_iter=100000, solver='sag') error with: Floating-point under-/overflow occurred at epoch #943. Scaling input data with StandardScaler or MinMaxScaler might help.\n",
      "Evaluating RidgeCV()\n"
     ]
    },
    {
     "name": "stderr",
     "output_type": "stream",
     "text": [
      "100%|██████████| 1/1 [00:00<00:00, 102.00it/s]\n"
     ]
    },
    {
     "name": "stdout",
     "output_type": "stream",
     "text": [
      "✅ RidgeCV: (pvalue: 1.000)\n",
      "Evaluating RidgeClassifier(max_iter=100000, solver='saga')\n",
      "❌ RidgeClassifier(max_iter=100000, solver='saga') error with: Floating-point under-/overflow occurred at epoch #812. Scaling input data with StandardScaler or MinMaxScaler might help.\n",
      "Evaluating RidgeClassifierCV()\n"
     ]
    },
    {
     "name": "stderr",
     "output_type": "stream",
     "text": [
      "100%|██████████| 1/1 [00:00<00:00, 58.21it/s]\n"
     ]
    },
    {
     "name": "stdout",
     "output_type": "stream",
     "text": [
      "✅ RidgeClassifierCV: (pvalue: 1.000)\n",
      "⚠ RobustScaler does not support sample_weight\n",
      "Evaluating SGDClassifier(max_iter=100000)\n"
     ]
    },
    {
     "name": "stderr",
     "output_type": "stream",
     "text": [
      "100%|██████████| 100/100 [00:00<00:00, 298.47it/s]\n"
     ]
    },
    {
     "name": "stdout",
     "output_type": "stream",
     "text": [
      "❌ SGDClassifier: (pvalue: 0.000)\n",
      "Evaluating SGDRegressor(max_iter=100000)\n"
     ]
    },
    {
     "name": "stderr",
     "output_type": "stream",
     "text": [
      "100%|██████████| 100/100 [00:00<00:00, 939.42it/s]\n"
     ]
    },
    {
     "name": "stdout",
     "output_type": "stream",
     "text": [
      "❌ SGDRegressor: (pvalue: 0.000)\n",
      "Evaluating SVC(probability=True)\n"
     ]
    },
    {
     "name": "stderr",
     "output_type": "stream",
     "text": [
      "100%|██████████| 100/100 [00:00<00:00, 139.52it/s]\n"
     ]
    },
    {
     "name": "stdout",
     "output_type": "stream",
     "text": [
      "❌ SVC: (pvalue: 0.000)\n",
      "Evaluating SVR()\n"
     ]
    },
    {
     "name": "stderr",
     "output_type": "stream",
     "text": [
      "100%|██████████| 1/1 [00:00<00:00, 279.51it/s]\n"
     ]
    },
    {
     "name": "stdout",
     "output_type": "stream",
     "text": [
      "✅ SVR: (pvalue: 1.000)\n",
      "⚠ SelectFdr does not support sample_weight\n",
      "⚠ SelectFpr does not support sample_weight\n",
      "⚠ SelectFromModel does not support sample_weight\n",
      "⚠ SelectFwe does not support sample_weight\n",
      "⚠ SelectKBest does not support sample_weight\n",
      "⚠ SelectPercentile does not support sample_weight\n",
      "⚠ SelfTrainingClassifier does not support sample_weight\n",
      "⚠ SequentialFeatureSelector does not support sample_weight\n",
      "⚠ SimpleImputer does not support sample_weight\n",
      "⚠ SkewedChi2Sampler does not support sample_weight\n",
      "⚠ SparseCoder does not support sample_weight\n",
      "⚠ SparsePCA does not support sample_weight\n",
      "⚠ SparseRandomProjection does not support sample_weight\n",
      "⚠ SpectralClustering does not support sample_weight\n",
      "Evaluating SplineTransformer()\n"
     ]
    },
    {
     "name": "stderr",
     "output_type": "stream",
     "text": [
      "100%|██████████| 1/1 [00:00<00:00, 196.00it/s]\n"
     ]
    },
    {
     "name": "stdout",
     "output_type": "stream",
     "text": [
      "✅ SplineTransformer: (pvalue: 1.000)\n",
      "⚠ StackingClassifier failed to instantiate: StackingClassifier.__init__() missing 1 required positional argument: 'estimators'\n",
      "⚠ StackingRegressor failed to instantiate: StackingRegressor.__init__() missing 1 required positional argument: 'estimators'\n",
      "Evaluating StandardScaler()\n"
     ]
    },
    {
     "name": "stderr",
     "output_type": "stream",
     "text": [
      "100%|██████████| 1/1 [00:00<00:00, 376.64it/s]\n"
     ]
    },
    {
     "name": "stdout",
     "output_type": "stream",
     "text": [
      "✅ StandardScaler: (pvalue: 1.000)\n",
      "⚠ TSNE does not support sample_weight\n",
      "⚠ TargetEncoder does not support sample_weight\n",
      "⚠ TfidfTransformer does not support sample_weight\n",
      "⚠ TheilSenRegressor does not support sample_weight\n",
      "⚠ TransformedTargetRegressor does not support sample_weight\n",
      "⚠ TruncatedSVD does not support sample_weight\n",
      "⚠ TunedThresholdClassifierCV does not support sample_weight\n",
      "Evaluating TweedieRegressor()\n"
     ]
    },
    {
     "name": "stderr",
     "output_type": "stream",
     "text": [
      "100%|██████████| 1/1 [00:00<00:00, 584.82it/s]"
     ]
    },
    {
     "name": "stdout",
     "output_type": "stream",
     "text": [
      "✅ TweedieRegressor: (pvalue: 1.000)\n",
      "⚠ VarianceThreshold does not support sample_weight\n",
      "⚠ VotingClassifier failed to instantiate: VotingClassifier.__init__() missing 1 required positional argument: 'estimators'\n",
      "⚠ VotingRegressor failed to instantiate: VotingRegressor.__init__() missing 1 required positional argument: 'estimators'\n"
     ]
    },
    {
     "name": "stderr",
     "output_type": "stream",
     "text": [
      "\n"
     ]
    }
   ],
   "source": [
    "N_STOCHASTIC_FITS = 100\n",
    "N_STATISTICAL_TESTS = 58  # measured by running the script\n",
    "BONFERRONI_CORRECTION = 1 / N_STATISTICAL_TESTS\n",
    "TEST_THRESHOLD = 0.05 * BONFERRONI_CORRECTION\n",
    "\n",
    "\n",
    "statistical_test_results = []\n",
    "missing_sample_weight_support = []\n",
    "errors = []\n",
    "\n",
    "\n",
    "for est_name, est_class in all_estimators(\n",
    "    type_filter=[\"classifier\", \"regressor\", \"cluster\", \"transformer\"]\n",
    "):\n",
    "    if est_class in ESTIMATORS_TO_SKIP:\n",
    "        print(f\"Skipping {est_name}\")\n",
    "        continue\n",
    "\n",
    "    if \"sample_weight\" not in signature(est_class.fit).parameters:\n",
    "        print(f\"⚠ {est_name} does not support sample_weight\")\n",
    "        missing_sample_weight_support.append(est_name)\n",
    "        continue\n",
    "\n",
    "    elif \"random_state\" not in signature(est_class().__init__).parameters:\n",
    "        est = est_class(**STOCHASTIC_FIT_PARAMS.get(est_class, {}))\n",
    "\n",
    "    try:\n",
    "        if est_name == \"CategoricalNB\":\n",
    "            # This estimator expects ordinal inputs so we need to discretize the input\n",
    "            # features. This is not really valid but it's the best we can do while\n",
    "            # keeping the dataset generation process common to all estimators of a\n",
    "            # given type.\n",
    "            est = Pipeline(\n",
    "                steps=[\n",
    "                    (\n",
    "                        \"kbinsdiscretizer\",\n",
    "                        KBinsDiscretizer(\n",
    "                            encode=\"ordinal\", quantile_method=\"averaged_inverted_cdf\"\n",
    "                        ),\n",
    "                    ),\n",
    "                    (\"est\", est_class(**STOCHASTIC_FIT_PARAMS.get(est_class, {}))),\n",
    "                ]\n",
    "            )\n",
    "        else:\n",
    "            est = est_class(**STOCHASTIC_FIT_PARAMS.get(est_class, {}))\n",
    "    except TypeError as e:\n",
    "        print(f\"⚠ {est_name} failed to instantiate: {e}\")\n",
    "        continue\n",
    "\n",
    "    print(f\"Evaluating {est}\")\n",
    "    try:\n",
    "        result = check_weighted_repeated_estimator_fit_equivalence(\n",
    "            est,\n",
    "            est_name,\n",
    "            test_name=\"kstest\",\n",
    "            n_stochastic_fits=N_STOCHASTIC_FITS,\n",
    "            random_state=0,\n",
    "        )\n",
    "        pass_or_fail = \"✅\" if result.pvalue > TEST_THRESHOLD else \"❌\"\n",
    "        print(f\"{pass_or_fail} {est_name}: (pvalue: {result.pvalue:.3f})\")\n",
    "        statistical_test_results.append(result)\n",
    "    except Exception as e:\n",
    "        print(f\"❌ {est} error with: {e}\")\n",
    "        errors.append((est, e))\n",
    "\n",
    "results_df = pd.DataFrame([r.to_dict() for r in statistical_test_results])"
   ]
  },
  {
   "cell_type": "code",
   "execution_count": 8,
   "metadata": {},
   "outputs": [
    {
     "name": "stdout",
     "output_type": "stream",
     "text": [
      "✅ 44 passed the statistical test\n",
      "❌ 15 failed the statistical test\n",
      "❌ 3 other errors\n",
      "⚠ 112 estimators lack sample_weight support\n"
     ]
    }
   ],
   "source": [
    "print(\n",
    "    f\"✅ {len([r for r in statistical_test_results if r.pvalue > TEST_THRESHOLD])} \"\n",
    "    \"passed the statistical test\"\n",
    ")\n",
    "print(\n",
    "    f\"❌ {len([r for r in statistical_test_results if r.pvalue <= TEST_THRESHOLD])} \"\n",
    "    \"failed the statistical test\"\n",
    ")\n",
    "print(f\"❌ {len(errors)} other errors\")\n",
    "print(\n",
    "    f\"⚠ {len(missing_sample_weight_support)} estimators lack sample_weight \"\n",
    "    \"support\"\n",
    ")\n",
    "results_df = pd.DataFrame([r.to_dict() for r in statistical_test_results])"
   ]
  },
  {
   "cell_type": "markdown",
   "metadata": {},
   "source": [
    "## Details on the statistical test results"
   ]
  },
  {
   "cell_type": "code",
   "execution_count": 7,
   "metadata": {},
   "outputs": [
    {
     "data": {
      "text/html": [
       "<div>\n",
       "<style scoped>\n",
       "    .dataframe tbody tr th:only-of-type {\n",
       "        vertical-align: middle;\n",
       "    }\n",
       "\n",
       "    .dataframe tbody tr th {\n",
       "        vertical-align: top;\n",
       "    }\n",
       "\n",
       "    .dataframe thead th {\n",
       "        text-align: right;\n",
       "    }\n",
       "</style>\n",
       "<table border=\"1\" class=\"dataframe\">\n",
       "  <thead>\n",
       "    <tr style=\"text-align: right;\">\n",
       "      <th></th>\n",
       "      <th>estimator_name</th>\n",
       "      <th>pvalue</th>\n",
       "      <th>deterministic_predictions</th>\n",
       "    </tr>\n",
       "  </thead>\n",
       "  <tbody>\n",
       "    <tr>\n",
       "      <th>41</th>\n",
       "      <td>NuSVC</td>\n",
       "      <td>2.208761e-59</td>\n",
       "      <td>False</td>\n",
       "    </tr>\n",
       "    <tr>\n",
       "      <th>47</th>\n",
       "      <td>RandomForestRegressor</td>\n",
       "      <td>2.208761e-59</td>\n",
       "      <td>False</td>\n",
       "    </tr>\n",
       "    <tr>\n",
       "      <th>49</th>\n",
       "      <td>Ridge</td>\n",
       "      <td>2.208761e-59</td>\n",
       "      <td>False</td>\n",
       "    </tr>\n",
       "    <tr>\n",
       "      <th>54</th>\n",
       "      <td>SVC</td>\n",
       "      <td>2.208761e-59</td>\n",
       "      <td>False</td>\n",
       "    </tr>\n",
       "    <tr>\n",
       "      <th>46</th>\n",
       "      <td>RandomForestClassifier</td>\n",
       "      <td>4.417521e-57</td>\n",
       "      <td>False</td>\n",
       "    </tr>\n",
       "    <tr>\n",
       "      <th>2</th>\n",
       "      <td>BaggingClassifier</td>\n",
       "      <td>4.395434e-55</td>\n",
       "      <td>False</td>\n",
       "    </tr>\n",
       "    <tr>\n",
       "      <th>25</th>\n",
       "      <td>HistGradientBoostingClassifier</td>\n",
       "      <td>2.900986e-53</td>\n",
       "      <td>False</td>\n",
       "    </tr>\n",
       "    <tr>\n",
       "      <th>26</th>\n",
       "      <td>HistGradientBoostingRegressor</td>\n",
       "      <td>3.231288e-37</td>\n",
       "      <td>False</td>\n",
       "    </tr>\n",
       "    <tr>\n",
       "      <th>53</th>\n",
       "      <td>SGDRegressor</td>\n",
       "      <td>4.111260e-34</td>\n",
       "      <td>False</td>\n",
       "    </tr>\n",
       "    <tr>\n",
       "      <th>3</th>\n",
       "      <td>BaggingRegressor</td>\n",
       "      <td>3.357101e-13</td>\n",
       "      <td>False</td>\n",
       "    </tr>\n",
       "    <tr>\n",
       "      <th>34</th>\n",
       "      <td>LinearSVC</td>\n",
       "      <td>8.448372e-11</td>\n",
       "      <td>False</td>\n",
       "    </tr>\n",
       "    <tr>\n",
       "      <th>52</th>\n",
       "      <td>SGDClassifier</td>\n",
       "      <td>1.704797e-09</td>\n",
       "      <td>False</td>\n",
       "    </tr>\n",
       "    <tr>\n",
       "      <th>43</th>\n",
       "      <td>Perceptron</td>\n",
       "      <td>1.115168e-08</td>\n",
       "      <td>False</td>\n",
       "    </tr>\n",
       "    <tr>\n",
       "      <th>36</th>\n",
       "      <td>LogisticRegression</td>\n",
       "      <td>8.001544e-07</td>\n",
       "      <td>False</td>\n",
       "    </tr>\n",
       "    <tr>\n",
       "      <th>35</th>\n",
       "      <td>LinearSVR</td>\n",
       "      <td>6.281177e-05</td>\n",
       "      <td>False</td>\n",
       "    </tr>\n",
       "    <tr>\n",
       "      <th>1</th>\n",
       "      <td>AdaBoostRegressor</td>\n",
       "      <td>3.638429e-02</td>\n",
       "      <td>False</td>\n",
       "    </tr>\n",
       "    <tr>\n",
       "      <th>37</th>\n",
       "      <td>MLPClassifier</td>\n",
       "      <td>5.390208e-02</td>\n",
       "      <td>False</td>\n",
       "    </tr>\n",
       "    <tr>\n",
       "      <th>24</th>\n",
       "      <td>GradientBoostingRegressor</td>\n",
       "      <td>1.111953e-01</td>\n",
       "      <td>False</td>\n",
       "    </tr>\n",
       "    <tr>\n",
       "      <th>13</th>\n",
       "      <td>DummyClassifier</td>\n",
       "      <td>1.548387e-01</td>\n",
       "      <td>False</td>\n",
       "    </tr>\n",
       "    <tr>\n",
       "      <th>32</th>\n",
       "      <td>LassoCV</td>\n",
       "      <td>1.548387e-01</td>\n",
       "      <td>False</td>\n",
       "    </tr>\n",
       "    <tr>\n",
       "      <th>23</th>\n",
       "      <td>GradientBoostingClassifier</td>\n",
       "      <td>2.111701e-01</td>\n",
       "      <td>False</td>\n",
       "    </tr>\n",
       "    <tr>\n",
       "      <th>12</th>\n",
       "      <td>DecisionTreeRegressor</td>\n",
       "      <td>2.111701e-01</td>\n",
       "      <td>False</td>\n",
       "    </tr>\n",
       "    <tr>\n",
       "      <th>20</th>\n",
       "      <td>ExtraTreesRegressor</td>\n",
       "      <td>2.819416e-01</td>\n",
       "      <td>False</td>\n",
       "    </tr>\n",
       "    <tr>\n",
       "      <th>18</th>\n",
       "      <td>ExtraTreeRegressor</td>\n",
       "      <td>2.819416e-01</td>\n",
       "      <td>False</td>\n",
       "    </tr>\n",
       "    <tr>\n",
       "      <th>38</th>\n",
       "      <td>MLPRegressor</td>\n",
       "      <td>3.681878e-01</td>\n",
       "      <td>False</td>\n",
       "    </tr>\n",
       "    <tr>\n",
       "      <th>15</th>\n",
       "      <td>ElasticNet</td>\n",
       "      <td>3.681878e-01</td>\n",
       "      <td>False</td>\n",
       "    </tr>\n",
       "    <tr>\n",
       "      <th>16</th>\n",
       "      <td>ElasticNetCV</td>\n",
       "      <td>4.695064e-01</td>\n",
       "      <td>False</td>\n",
       "    </tr>\n",
       "    <tr>\n",
       "      <th>48</th>\n",
       "      <td>RandomTreesEmbedding</td>\n",
       "      <td>5.830091e-01</td>\n",
       "      <td>False</td>\n",
       "    </tr>\n",
       "    <tr>\n",
       "      <th>0</th>\n",
       "      <td>AdaBoostClassifier</td>\n",
       "      <td>7.020570e-01</td>\n",
       "      <td>False</td>\n",
       "    </tr>\n",
       "    <tr>\n",
       "      <th>11</th>\n",
       "      <td>DecisionTreeClassifier</td>\n",
       "      <td>7.020570e-01</td>\n",
       "      <td>False</td>\n",
       "    </tr>\n",
       "    <tr>\n",
       "      <th>17</th>\n",
       "      <td>ExtraTreeClassifier</td>\n",
       "      <td>8.154147e-01</td>\n",
       "      <td>False</td>\n",
       "    </tr>\n",
       "    <tr>\n",
       "      <th>28</th>\n",
       "      <td>KBinsDiscretizer</td>\n",
       "      <td>8.154147e-01</td>\n",
       "      <td>False</td>\n",
       "    </tr>\n",
       "    <tr>\n",
       "      <th>19</th>\n",
       "      <td>ExtraTreesClassifier</td>\n",
       "      <td>9.684099e-01</td>\n",
       "      <td>False</td>\n",
       "    </tr>\n",
       "    <tr>\n",
       "      <th>45</th>\n",
       "      <td>QuantileRegressor</td>\n",
       "      <td>1.000000e+00</td>\n",
       "      <td>True</td>\n",
       "    </tr>\n",
       "    <tr>\n",
       "      <th>44</th>\n",
       "      <td>PoissonRegressor</td>\n",
       "      <td>1.000000e+00</td>\n",
       "      <td>True</td>\n",
       "    </tr>\n",
       "    <tr>\n",
       "      <th>42</th>\n",
       "      <td>NuSVR</td>\n",
       "      <td>1.000000e+00</td>\n",
       "      <td>True</td>\n",
       "    </tr>\n",
       "    <tr>\n",
       "      <th>50</th>\n",
       "      <td>RidgeCV</td>\n",
       "      <td>1.000000e+00</td>\n",
       "      <td>True</td>\n",
       "    </tr>\n",
       "    <tr>\n",
       "      <th>51</th>\n",
       "      <td>RidgeClassifierCV</td>\n",
       "      <td>1.000000e+00</td>\n",
       "      <td>True</td>\n",
       "    </tr>\n",
       "    <tr>\n",
       "      <th>55</th>\n",
       "      <td>SVR</td>\n",
       "      <td>1.000000e+00</td>\n",
       "      <td>True</td>\n",
       "    </tr>\n",
       "    <tr>\n",
       "      <th>56</th>\n",
       "      <td>SplineTransformer</td>\n",
       "      <td>1.000000e+00</td>\n",
       "      <td>True</td>\n",
       "    </tr>\n",
       "    <tr>\n",
       "      <th>29</th>\n",
       "      <td>KMeans</td>\n",
       "      <td>1.000000e+00</td>\n",
       "      <td>False</td>\n",
       "    </tr>\n",
       "    <tr>\n",
       "      <th>39</th>\n",
       "      <td>MiniBatchKMeans</td>\n",
       "      <td>1.000000e+00</td>\n",
       "      <td>False</td>\n",
       "    </tr>\n",
       "    <tr>\n",
       "      <th>4</th>\n",
       "      <td>BayesianRidge</td>\n",
       "      <td>1.000000e+00</td>\n",
       "      <td>True</td>\n",
       "    </tr>\n",
       "    <tr>\n",
       "      <th>5</th>\n",
       "      <td>BernoulliNB</td>\n",
       "      <td>1.000000e+00</td>\n",
       "      <td>True</td>\n",
       "    </tr>\n",
       "    <tr>\n",
       "      <th>6</th>\n",
       "      <td>BisectingKMeans</td>\n",
       "      <td>1.000000e+00</td>\n",
       "      <td>False</td>\n",
       "    </tr>\n",
       "    <tr>\n",
       "      <th>7</th>\n",
       "      <td>CalibratedClassifierCV</td>\n",
       "      <td>1.000000e+00</td>\n",
       "      <td>True</td>\n",
       "    </tr>\n",
       "    <tr>\n",
       "      <th>8</th>\n",
       "      <td>CategoricalNB</td>\n",
       "      <td>1.000000e+00</td>\n",
       "      <td>True</td>\n",
       "    </tr>\n",
       "    <tr>\n",
       "      <th>9</th>\n",
       "      <td>ComplementNB</td>\n",
       "      <td>1.000000e+00</td>\n",
       "      <td>True</td>\n",
       "    </tr>\n",
       "    <tr>\n",
       "      <th>10</th>\n",
       "      <td>DBSCAN</td>\n",
       "      <td>1.000000e+00</td>\n",
       "      <td>False</td>\n",
       "    </tr>\n",
       "    <tr>\n",
       "      <th>14</th>\n",
       "      <td>DummyRegressor</td>\n",
       "      <td>1.000000e+00</td>\n",
       "      <td>True</td>\n",
       "    </tr>\n",
       "    <tr>\n",
       "      <th>21</th>\n",
       "      <td>GammaRegressor</td>\n",
       "      <td>1.000000e+00</td>\n",
       "      <td>True</td>\n",
       "    </tr>\n",
       "    <tr>\n",
       "      <th>22</th>\n",
       "      <td>GaussianNB</td>\n",
       "      <td>1.000000e+00</td>\n",
       "      <td>True</td>\n",
       "    </tr>\n",
       "    <tr>\n",
       "      <th>27</th>\n",
       "      <td>HuberRegressor</td>\n",
       "      <td>1.000000e+00</td>\n",
       "      <td>True</td>\n",
       "    </tr>\n",
       "    <tr>\n",
       "      <th>57</th>\n",
       "      <td>StandardScaler</td>\n",
       "      <td>1.000000e+00</td>\n",
       "      <td>True</td>\n",
       "    </tr>\n",
       "    <tr>\n",
       "      <th>30</th>\n",
       "      <td>KernelRidge</td>\n",
       "      <td>1.000000e+00</td>\n",
       "      <td>True</td>\n",
       "    </tr>\n",
       "    <tr>\n",
       "      <th>31</th>\n",
       "      <td>Lasso</td>\n",
       "      <td>1.000000e+00</td>\n",
       "      <td>True</td>\n",
       "    </tr>\n",
       "    <tr>\n",
       "      <th>33</th>\n",
       "      <td>LinearRegression</td>\n",
       "      <td>1.000000e+00</td>\n",
       "      <td>True</td>\n",
       "    </tr>\n",
       "    <tr>\n",
       "      <th>40</th>\n",
       "      <td>MultinomialNB</td>\n",
       "      <td>1.000000e+00</td>\n",
       "      <td>True</td>\n",
       "    </tr>\n",
       "    <tr>\n",
       "      <th>58</th>\n",
       "      <td>TweedieRegressor</td>\n",
       "      <td>1.000000e+00</td>\n",
       "      <td>True</td>\n",
       "    </tr>\n",
       "  </tbody>\n",
       "</table>\n",
       "</div>"
      ],
      "text/plain": [
       "                    estimator_name        pvalue  deterministic_predictions\n",
       "41                           NuSVC  2.208761e-59                      False\n",
       "47           RandomForestRegressor  2.208761e-59                      False\n",
       "49                           Ridge  2.208761e-59                      False\n",
       "54                             SVC  2.208761e-59                      False\n",
       "46          RandomForestClassifier  4.417521e-57                      False\n",
       "2                BaggingClassifier  4.395434e-55                      False\n",
       "25  HistGradientBoostingClassifier  2.900986e-53                      False\n",
       "26   HistGradientBoostingRegressor  3.231288e-37                      False\n",
       "53                    SGDRegressor  4.111260e-34                      False\n",
       "3                 BaggingRegressor  3.357101e-13                      False\n",
       "34                       LinearSVC  8.448372e-11                      False\n",
       "52                   SGDClassifier  1.704797e-09                      False\n",
       "43                      Perceptron  1.115168e-08                      False\n",
       "36              LogisticRegression  8.001544e-07                      False\n",
       "35                       LinearSVR  6.281177e-05                      False\n",
       "1                AdaBoostRegressor  3.638429e-02                      False\n",
       "37                   MLPClassifier  5.390208e-02                      False\n",
       "24       GradientBoostingRegressor  1.111953e-01                      False\n",
       "13                 DummyClassifier  1.548387e-01                      False\n",
       "32                         LassoCV  1.548387e-01                      False\n",
       "23      GradientBoostingClassifier  2.111701e-01                      False\n",
       "12           DecisionTreeRegressor  2.111701e-01                      False\n",
       "20             ExtraTreesRegressor  2.819416e-01                      False\n",
       "18              ExtraTreeRegressor  2.819416e-01                      False\n",
       "38                    MLPRegressor  3.681878e-01                      False\n",
       "15                      ElasticNet  3.681878e-01                      False\n",
       "16                    ElasticNetCV  4.695064e-01                      False\n",
       "48            RandomTreesEmbedding  5.830091e-01                      False\n",
       "0               AdaBoostClassifier  7.020570e-01                      False\n",
       "11          DecisionTreeClassifier  7.020570e-01                      False\n",
       "17             ExtraTreeClassifier  8.154147e-01                      False\n",
       "28                KBinsDiscretizer  8.154147e-01                      False\n",
       "19            ExtraTreesClassifier  9.684099e-01                      False\n",
       "45               QuantileRegressor  1.000000e+00                       True\n",
       "44                PoissonRegressor  1.000000e+00                       True\n",
       "42                           NuSVR  1.000000e+00                       True\n",
       "50                         RidgeCV  1.000000e+00                       True\n",
       "51               RidgeClassifierCV  1.000000e+00                       True\n",
       "55                             SVR  1.000000e+00                       True\n",
       "56               SplineTransformer  1.000000e+00                       True\n",
       "29                          KMeans  1.000000e+00                      False\n",
       "39                 MiniBatchKMeans  1.000000e+00                      False\n",
       "4                    BayesianRidge  1.000000e+00                       True\n",
       "5                      BernoulliNB  1.000000e+00                       True\n",
       "6                  BisectingKMeans  1.000000e+00                      False\n",
       "7           CalibratedClassifierCV  1.000000e+00                       True\n",
       "8                    CategoricalNB  1.000000e+00                       True\n",
       "9                     ComplementNB  1.000000e+00                       True\n",
       "10                          DBSCAN  1.000000e+00                      False\n",
       "14                  DummyRegressor  1.000000e+00                       True\n",
       "21                  GammaRegressor  1.000000e+00                       True\n",
       "22                      GaussianNB  1.000000e+00                       True\n",
       "27                  HuberRegressor  1.000000e+00                       True\n",
       "57                  StandardScaler  1.000000e+00                       True\n",
       "30                     KernelRidge  1.000000e+00                       True\n",
       "31                           Lasso  1.000000e+00                       True\n",
       "33                LinearRegression  1.000000e+00                       True\n",
       "40                   MultinomialNB  1.000000e+00                       True\n",
       "58                TweedieRegressor  1.000000e+00                       True"
      ]
     },
     "execution_count": 7,
     "metadata": {},
     "output_type": "execute_result"
    }
   ],
   "source": [
    "results_df.sort_values(\"pvalue\")[[\"estimator_name\", \"pvalue\", \"deterministic_predictions\"]]"
   ]
  },
  {
   "cell_type": "markdown",
   "metadata": {},
   "source": [
    "## Details on errors"
   ]
  },
  {
   "cell_type": "code",
   "execution_count": 9,
   "metadata": {},
   "outputs": [
    {
     "name": "stdout",
     "output_type": "stream",
     "text": [
      "❌ IsotonicRegression(): too many indices for array: array is 1-dimensional, but 2 were indexed\n",
      "Traceback (most recent call last):\n",
      "  File \"/var/folders/h4/l_wtcs4s43j2j9454pvp1c580000gn/T/ipykernel_94798/2504969921.py\", line 49, in <module>\n",
      "    result = check_weighted_repeated_estimator_fit_equivalence(\n",
      "             ^^^^^^^^^^^^^^^^^^^^^^^^^^^^^^^^^^^^^^^^^^^^^^^^^^\n",
      "  File \"/Users/shrutinath/sample_weight_audit_dist/reports/../src/sample_weight_audit/estimator_check.py\", line 177, in check_weighted_repeated_estimator_fit_equivalence\n",
      "    multifit_over_weighted_and_repeated(\n",
      "  File \"/Users/shrutinath/sample_weight_audit_dist/reports/../src/sample_weight_audit/estimator_check.py\", line 473, in multifit_over_weighted_and_repeated\n",
      "    X_train = _enforce_estimator_tags_X(est, X_train)\n",
      "              ^^^^^^^^^^^^^^^^^^^^^^^^^^^^^^^^^^^^^^^\n",
      "  File \"/Users/shrutinath/sklearn-dev/scikit-learn/sklearn/utils/estimator_checks.py\", line 3986, in _enforce_estimator_tags_X\n",
      "    X = X[:, 0]\n",
      "        ~^^^^^^\n",
      "IndexError: too many indices for array: array is 1-dimensional, but 2 were indexed\n",
      "\n",
      "❌ RANSACRegressor(): Weights sum to zero, can't be normalized\n",
      "Traceback (most recent call last):\n",
      "  File \"/var/folders/h4/l_wtcs4s43j2j9454pvp1c580000gn/T/ipykernel_94798/2504969921.py\", line 49, in <module>\n",
      "    result = check_weighted_repeated_estimator_fit_equivalence(\n",
      "             ^^^^^^^^^^^^^^^^^^^^^^^^^^^^^^^^^^^^^^^^^^^^^^^^^^\n",
      "  File \"/Users/shrutinath/sample_weight_audit_dist/reports/../src/sample_weight_audit/estimator_check.py\", line 177, in check_weighted_repeated_estimator_fit_equivalence\n",
      "    multifit_over_weighted_and_repeated(\n",
      "  File \"/Users/shrutinath/sample_weight_audit_dist/reports/../src/sample_weight_audit/estimator_check.py\", line 520, in multifit_over_weighted_and_repeated\n",
      "    est_weighted = check_pipeline_and_fit(\n",
      "                   ^^^^^^^^^^^^^^^^^^^^^^^\n",
      "  File \"/Users/shrutinath/sample_weight_audit_dist/reports/../src/sample_weight_audit/estimator_check.py\", line 311, in check_pipeline_and_fit\n",
      "    est = est.fit(X, y, sample_weight=sample_weight)\n",
      "          ^^^^^^^^^^^^^^^^^^^^^^^^^^^^^^^^^^^^^^^^^^\n",
      "  File \"/Users/shrutinath/sklearn-dev/scikit-learn/sklearn/base.py\", line 1389, in wrapper\n",
      "    return fit_method(estimator, *args, **kwargs)\n",
      "           ^^^^^^^^^^^^^^^^^^^^^^^^^^^^^^^^^^^^^^\n",
      "  File \"/Users/shrutinath/sklearn-dev/scikit-learn/sklearn/utils/validation.py\", line 63, in inner_f\n",
      "    return f(*args, **kwargs)\n",
      "           ^^^^^^^^^^^^^^^^^^\n",
      "  File \"/Users/shrutinath/sklearn-dev/scikit-learn/sklearn/linear_model/_ransac.py\", line 498, in fit\n",
      "    estimator.fit(X_subset, y_subset, **fit_params_subset)\n",
      "  File \"/Users/shrutinath/sklearn-dev/scikit-learn/sklearn/base.py\", line 1389, in wrapper\n",
      "    return fit_method(estimator, *args, **kwargs)\n",
      "           ^^^^^^^^^^^^^^^^^^^^^^^^^^^^^^^^^^^^^^\n",
      "  File \"/Users/shrutinath/sklearn-dev/scikit-learn/sklearn/linear_model/_base.py\", line 635, in fit\n",
      "    X, y, X_offset, y_offset, X_scale = _preprocess_data(\n",
      "                                        ^^^^^^^^^^^^^^^^^\n",
      "  File \"/Users/shrutinath/sklearn-dev/scikit-learn/sklearn/linear_model/_base.py\", line 185, in _preprocess_data\n",
      "    X_offset = _average(X, axis=0, weights=sample_weight, xp=xp)\n",
      "               ^^^^^^^^^^^^^^^^^^^^^^^^^^^^^^^^^^^^^^^^^^^^^^^^^\n",
      "  File \"/Users/shrutinath/sklearn-dev/scikit-learn/sklearn/utils/_array_api.py\", line 717, in _average\n",
      "    return xp.asarray(numpy.average(a, axis=axis, weights=weights))\n",
      "                      ^^^^^^^^^^^^^^^^^^^^^^^^^^^^^^^^^^^^^^^^^^^^\n",
      "  File \"/Users/shrutinath/micromamba/envs/scikit-learn/lib/python3.12/site-packages/numpy/lib/_function_base_impl.py\", line 570, in average\n",
      "    raise ZeroDivisionError(\n",
      "ZeroDivisionError: Weights sum to zero, can't be normalized\n",
      "\n",
      "❌ RidgeClassifier(max_iter=800, solver='saga'): Input contains infinity or a value too large for dtype('float64').\n",
      "Traceback (most recent call last):\n",
      "  File \"/var/folders/h4/l_wtcs4s43j2j9454pvp1c580000gn/T/ipykernel_94798/2504969921.py\", line 49, in <module>\n",
      "    result = check_weighted_repeated_estimator_fit_equivalence(\n",
      "             ^^^^^^^^^^^^^^^^^^^^^^^^^^^^^^^^^^^^^^^^^^^^^^^^^^\n",
      "  File \"/Users/shrutinath/sample_weight_audit_dist/reports/../src/sample_weight_audit/estimator_check.py\", line 177, in check_weighted_repeated_estimator_fit_equivalence\n",
      "    multifit_over_weighted_and_repeated(\n",
      "  File \"/Users/shrutinath/sample_weight_audit_dist/reports/../src/sample_weight_audit/estimator_check.py\", line 534, in multifit_over_weighted_and_repeated\n",
      "    scores_weighted, preds_weighted = score_estimator(\n",
      "                                      ^^^^^^^^^^^^^^^^\n",
      "  File \"/Users/shrutinath/sample_weight_audit_dist/reports/../src/sample_weight_audit/estimator_check.py\", line 270, in score_estimator\n",
      "    return average_precision_score(y, preds), preds\n",
      "           ^^^^^^^^^^^^^^^^^^^^^^^^^^^^^^^^^\n",
      "  File \"/Users/shrutinath/sklearn-dev/scikit-learn/sklearn/utils/_param_validation.py\", line 218, in wrapper\n",
      "    return func(*args, **kwargs)\n",
      "           ^^^^^^^^^^^^^^^^^^^^^\n",
      "  File \"/Users/shrutinath/sklearn-dev/scikit-learn/sklearn/metrics/_ranking.py\", line 263, in average_precision_score\n",
      "    return _average_binary_score(\n",
      "           ^^^^^^^^^^^^^^^^^^^^^^\n",
      "  File \"/Users/shrutinath/sklearn-dev/scikit-learn/sklearn/metrics/_base.py\", line 73, in _average_binary_score\n",
      "    y_score = check_array(y_score)\n",
      "              ^^^^^^^^^^^^^^^^^^^^\n",
      "  File \"/Users/shrutinath/sklearn-dev/scikit-learn/sklearn/utils/validation.py\", line 1105, in check_array\n",
      "    _assert_all_finite(\n",
      "  File \"/Users/shrutinath/sklearn-dev/scikit-learn/sklearn/utils/validation.py\", line 120, in _assert_all_finite\n",
      "    _assert_all_finite_element_wise(\n",
      "  File \"/Users/shrutinath/sklearn-dev/scikit-learn/sklearn/utils/validation.py\", line 169, in _assert_all_finite_element_wise\n",
      "    raise ValueError(msg_err)\n",
      "ValueError: Input contains infinity or a value too large for dtype('float64').\n",
      "\n"
     ]
    }
   ],
   "source": [
    "import sys\n",
    "\n",
    "for est, e in errors:\n",
    "    print(f\"❌ {est}: {e}\")\n",
    "    traceback.print_exception(e, file=sys.stdout)\n",
    "    print()"
   ]
  },
  {
   "cell_type": "markdown",
   "metadata": {},
   "source": [
    "## List of estimators with missing sample_weight support"
   ]
  },
  {
   "cell_type": "code",
   "execution_count": 8,
   "metadata": {},
   "outputs": [
    {
     "name": "stdout",
     "output_type": "stream",
     "text": [
      "ARDRegression\n",
      "AdditiveChi2Sampler\n",
      "AffinityPropagation\n",
      "AgglomerativeClustering\n",
      "BernoulliRBM\n",
      "Binarizer\n",
      "Birch\n",
      "CCA\n",
      "ClassifierChain\n",
      "ColumnTransformer\n",
      "DictVectorizer\n",
      "DictionaryLearning\n",
      "FactorAnalysis\n",
      "FastICA\n",
      "FeatureAgglomeration\n",
      "FeatureHasher\n",
      "FeatureUnion\n",
      "FixedThresholdClassifier\n",
      "FunctionTransformer\n",
      "GaussianProcessClassifier\n",
      "GaussianProcessRegressor\n",
      "GaussianRandomProjection\n",
      "GenericUnivariateSelect\n",
      "HDBSCAN\n",
      "HashingVectorizer\n",
      "IncrementalPCA\n",
      "Isomap\n",
      "KNNImputer\n",
      "KNeighborsClassifier\n",
      "KNeighborsRegressor\n",
      "KNeighborsTransformer\n",
      "KernelCenterer\n",
      "KernelPCA\n",
      "LabelBinarizer\n",
      "LabelEncoder\n",
      "LabelPropagation\n",
      "LabelSpreading\n",
      "Lars\n",
      "LarsCV\n",
      "LassoLars\n",
      "LassoLarsCV\n",
      "LassoLarsIC\n",
      "LatentDirichletAllocation\n",
      "LinearDiscriminantAnalysis\n",
      "LocallyLinearEmbedding\n",
      "MaxAbsScaler\n",
      "MeanShift\n",
      "MinMaxScaler\n",
      "MiniBatchDictionaryLearning\n",
      "MiniBatchNMF\n",
      "MiniBatchSparsePCA\n",
      "MissingIndicator\n",
      "MultiLabelBinarizer\n",
      "MultiTaskElasticNet\n",
      "MultiTaskElasticNetCV\n",
      "MultiTaskLasso\n",
      "MultiTaskLassoCV\n",
      "NMF\n",
      "NearestCentroid\n",
      "NeighborhoodComponentsAnalysis\n",
      "Normalizer\n",
      "Nystroem\n",
      "OPTICS\n",
      "OneHotEncoder\n",
      "OneVsOneClassifier\n",
      "OneVsRestClassifier\n",
      "OrdinalEncoder\n",
      "OrthogonalMatchingPursuit\n",
      "OrthogonalMatchingPursuitCV\n",
      "OutputCodeClassifier\n",
      "PCA\n",
      "PLSCanonical\n",
      "PLSRegression\n",
      "PLSSVD\n",
      "PassiveAggressiveClassifier\n",
      "PassiveAggressiveRegressor\n",
      "PatchExtractor\n",
      "PolynomialCountSketch\n",
      "PolynomialFeatures\n",
      "PowerTransformer\n",
      "QuadraticDiscriminantAnalysis\n",
      "QuantileTransformer\n",
      "RBFSampler\n",
      "RFE\n",
      "RFECV\n",
      "RadiusNeighborsClassifier\n",
      "RadiusNeighborsRegressor\n",
      "RadiusNeighborsTransformer\n",
      "RegressorChain\n",
      "RobustScaler\n",
      "SelectFdr\n",
      "SelectFpr\n",
      "SelectFromModel\n",
      "SelectFwe\n",
      "SelectKBest\n",
      "SelectPercentile\n",
      "SelfTrainingClassifier\n",
      "SequentialFeatureSelector\n",
      "SimpleImputer\n",
      "SkewedChi2Sampler\n",
      "SparseCoder\n",
      "SparsePCA\n",
      "SparseRandomProjection\n",
      "SpectralClustering\n",
      "TSNE\n",
      "TargetEncoder\n",
      "TfidfTransformer\n",
      "TheilSenRegressor\n",
      "TransformedTargetRegressor\n",
      "TruncatedSVD\n",
      "TunedThresholdClassifierCV\n",
      "VarianceThreshold\n"
     ]
    }
   ],
   "source": [
    "for est_name in missing_sample_weight_support:\n",
    "    print(est_name)"
   ]
  },
  {
   "cell_type": "markdown",
   "metadata": {},
   "source": [
    "## Example interactive inspection of the predictions and scores of a given estimator"
   ]
  },
  {
   "cell_type": "code",
   "execution_count": 9,
   "metadata": {},
   "outputs": [
    {
     "data": {
      "text/plain": [
       "(1, 3000)"
      ]
     },
     "execution_count": 9,
     "metadata": {},
     "output_type": "execute_result"
    }
   ],
   "source": [
    "results = next(r for r in statistical_test_results if r.estimator_name == \"GaussianNB\")\n",
    "results.predictions_repeated.shape"
   ]
  },
  {
   "cell_type": "code",
   "execution_count": 10,
   "metadata": {},
   "outputs": [
    {
     "data": {
      "text/plain": [
       "(1, 3000)"
      ]
     },
     "execution_count": 10,
     "metadata": {},
     "output_type": "execute_result"
    }
   ],
   "source": [
    "results.predictions_weighted.shape"
   ]
  },
  {
   "cell_type": "code",
   "execution_count": 11,
   "metadata": {},
   "outputs": [
    {
     "data": {
      "text/plain": [
       "np.float64(3.9999992207384594e-10)"
      ]
     },
     "execution_count": 11,
     "metadata": {},
     "output_type": "execute_result"
    }
   ],
   "source": [
    "import numpy as np\n",
    "np.abs(results.predictions_repeated - results.predictions_weighted).max()"
   ]
  },
  {
   "cell_type": "code",
   "execution_count": 12,
   "metadata": {},
   "outputs": [
    {
     "data": {
      "text/plain": [
       "np.float64(3.2652280879119644e-10)"
      ]
     },
     "execution_count": 12,
     "metadata": {},
     "output_type": "execute_result"
    }
   ],
   "source": [
    "np.abs(results.scores_repeated - results.scores_weighted).max()"
   ]
  },
  {
   "cell_type": "code",
   "execution_count": 13,
   "metadata": {},
   "outputs": [
    {
     "data": {
      "text/plain": [
       "KstestResult(statistic=np.float64(1.0), pvalue=np.float64(1.0), statistic_location=np.float64(3.262703314947884), statistic_sign=np.int8(1))"
      ]
     },
     "execution_count": 13,
     "metadata": {},
     "output_type": "execute_result"
    }
   ],
   "source": [
    "from scipy.stats import kstest\n",
    "kstest(results.scores_repeated, results.scores_weighted)"
   ]
  }
 ],
 "metadata": {
  "kernelspec": {
   "display_name": "dev",
   "language": "python",
   "name": "python3"
  },
  "language_info": {
   "codemirror_mode": {
    "name": "ipython",
    "version": 3
   },
   "file_extension": ".py",
   "mimetype": "text/x-python",
   "name": "python",
   "nbconvert_exporter": "python",
   "pygments_lexer": "ipython3",
   "version": "3.12.8"
  }
 },
 "nbformat": 4,
 "nbformat_minor": 2
}
