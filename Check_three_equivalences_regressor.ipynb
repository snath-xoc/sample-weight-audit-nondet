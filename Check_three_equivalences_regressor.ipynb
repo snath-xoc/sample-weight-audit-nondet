{
 "cells": [
  {
   "cell_type": "code",
   "execution_count": 10,
   "metadata": {},
   "outputs": [
    {
     "name": "stderr",
     "output_type": "stream",
     "text": [
      "100%|██████████| 20/20 [00:02<00:00,  9.12it/s]\n"
     ]
    },
    {
     "name": "stdout",
     "output_type": "stream",
     "text": [
      "Finished looping till the maximum random state, 20 for estimator <class 'sklearn.ensemble._weight_boosting.AdaBoostRegressor'> in ---- 2.2554209232330322 s---\n",
      "Average difference in medians is: -0.5460646264199213\n",
      "Minimum p-values:  0.09609265786876406\n"
     ]
    },
    {
     "name": "stderr",
     "output_type": "stream",
     "text": [
      "100%|██████████| 20/20 [00:00<00:00, 21.34it/s]\n"
     ]
    },
    {
     "name": "stdout",
     "output_type": "stream",
     "text": [
      "Finished looping till the maximum random state, 20 for estimator <class 'sklearn.ensemble._bagging.BaggingRegressor'> in ---- 0.963310956954956 s---\n",
      "Average difference in medians is: -27.928213463454988\n",
      "Minimum p-values:  0.008513687118345398\n"
     ]
    },
    {
     "name": "stderr",
     "output_type": "stream",
     "text": [
      "100%|██████████| 20/20 [00:00<00:00, 294.94it/s]\n"
     ]
    },
    {
     "name": "stdout",
     "output_type": "stream",
     "text": [
      "Finished looping till the maximum random state, 20 for estimator <class 'sklearn.tree._classes.DecisionTreeRegressor'> in ---- 0.07504987716674805 s---\n",
      "Average difference in medians is: 35.45191836248365\n",
      "Minimum p-values:  0.3184691333120901\n"
     ]
    },
    {
     "name": "stderr",
     "output_type": "stream",
     "text": [
      "100%|██████████| 20/20 [00:00<00:00, 1137.79it/s]\n"
     ]
    },
    {
     "name": "stdout",
     "output_type": "stream",
     "text": [
      "Finished looping till the maximum random state, 20 for estimator <class 'sklearn.linear_model._coordinate_descent.ElasticNet'> in ---- 0.023733854293823242 s---\n",
      "Average difference in medians is: 1.5631940186722205e-14\n",
      "Minimum p-values:  0.9999999999622764\n"
     ]
    },
    {
     "name": "stderr",
     "output_type": "stream",
     "text": [
      "100%|██████████| 20/20 [00:00<00:00, 53.73it/s]\n"
     ]
    },
    {
     "name": "stdout",
     "output_type": "stream",
     "text": [
      "<class 'sklearn.linear_model._coordinate_descent.ElasticNetCV'> with different random state led to the same predictions\n"
     ]
    },
    {
     "name": "stderr",
     "output_type": "stream",
     "text": [
      "100%|██████████| 20/20 [00:00<00:00, 551.43it/s]\n"
     ]
    },
    {
     "name": "stdout",
     "output_type": "stream",
     "text": [
      "Finished looping till the maximum random state, 20 for estimator <class 'sklearn.tree._classes.ExtraTreeRegressor'> in ---- 0.04305100440979004 s---\n",
      "Average difference in medians is: 30.495626065126846\n",
      "Minimum p-values:  0.08628168607377737\n"
     ]
    },
    {
     "name": "stderr",
     "output_type": "stream",
     "text": [
      "100%|██████████| 20/20 [00:03<00:00,  5.91it/s]\n"
     ]
    },
    {
     "name": "stdout",
     "output_type": "stream",
     "text": [
      "Finished looping till the maximum random state, 20 for estimator <class 'sklearn.ensemble._forest.ExtraTreesRegressor'> in ---- 3.4791250228881836 s---\n",
      "Average difference in medians is: 6.71225913727248\n",
      "Minimum p-values:  0.005919999389758984\n"
     ]
    },
    {
     "name": "stderr",
     "output_type": "stream",
     "text": [
      "100%|██████████| 20/20 [00:02<00:00,  8.63it/s]\n"
     ]
    },
    {
     "name": "stdout",
     "output_type": "stream",
     "text": [
      "Finished looping till the maximum random state, 20 for estimator <class 'sklearn.ensemble._gb.GradientBoostingRegressor'> in ---- 2.3727619647979736 s---\n",
      "Average difference in medians is: 3.5419571700995105\n",
      "Minimum p-values:  0.37905714987843253\n"
     ]
    },
    {
     "name": "stderr",
     "output_type": "stream",
     "text": [
      "100%|██████████| 20/20 [00:06<00:00,  3.09it/s]\n"
     ]
    },
    {
     "name": "stdout",
     "output_type": "stream",
     "text": [
      "Finished looping till the maximum random state, 20 for estimator <class 'sklearn.ensemble._hist_gradient_boosting.gradient_boosting.HistGradientBoostingRegressor'> in ---- 6.648483991622925 s---\n",
      "Average difference in medians is: 6.100866686620196\n",
      "Minimum p-values:  0.003312970290864194\n"
     ]
    },
    {
     "name": "stderr",
     "output_type": "stream",
     "text": [
      "100%|██████████| 20/20 [00:00<00:00, 1254.47it/s]\n"
     ]
    },
    {
     "name": "stdout",
     "output_type": "stream",
     "text": [
      "Finished looping till the maximum random state, 20 for estimator <class 'sklearn.linear_model._coordinate_descent.Lasso'> in ---- 0.02173900604248047 s---\n",
      "Average difference in medians is: -1.0302869668521453e-13\n",
      "Minimum p-values:  0.9999999998960611\n"
     ]
    },
    {
     "name": "stderr",
     "output_type": "stream",
     "text": [
      "100%|██████████| 20/20 [00:00<00:00, 48.25it/s]\n"
     ]
    },
    {
     "name": "stdout",
     "output_type": "stream",
     "text": [
      "<class 'sklearn.linear_model._coordinate_descent.LassoCV'> with different random state led to the same predictions\n"
     ]
    },
    {
     "name": "stderr",
     "output_type": "stream",
     "text": [
      "100%|██████████| 20/20 [00:00<00:00, 1297.52it/s]\n"
     ]
    },
    {
     "name": "stdout",
     "output_type": "stream",
     "text": [
      "Finished looping till the maximum random state, 20 for estimator <class 'sklearn.svm._classes.LinearSVR'> in ---- 0.021360158920288086 s---\n",
      "Average difference in medians is: -0.05246849469306199\n",
      "Minimum p-values:  0.33046081220803225\n"
     ]
    },
    {
     "name": "stderr",
     "output_type": "stream",
     "text": [
      "100%|██████████| 20/20 [00:00<00:00, 29.79it/s]\n"
     ]
    },
    {
     "name": "stdout",
     "output_type": "stream",
     "text": [
      "Finished looping till the maximum random state, 20 for estimator <class 'sklearn.linear_model._ransac.RANSACRegressor'> in ---- 0.6958708763122559 s---\n",
      "Average difference in medians is: 13.782583328617045\n",
      "Minimum p-values:  0.10083091787109318\n"
     ]
    },
    {
     "name": "stderr",
     "output_type": "stream",
     "text": [
      "100%|██████████| 20/20 [00:04<00:00,  4.21it/s]\n"
     ]
    },
    {
     "name": "stdout",
     "output_type": "stream",
     "text": [
      "Finished looping till the maximum random state, 20 for estimator <class 'sklearn.ensemble._forest.RandomForestRegressor'> in ---- 4.858827114105225 s---\n",
      "Average difference in medians is: 5.327095744289369\n",
      "Minimum p-values:  0.009933887074082371\n"
     ]
    },
    {
     "name": "stderr",
     "output_type": "stream",
     "text": [
      "100%|██████████| 20/20 [00:00<00:00, 130.51it/s]\n"
     ]
    },
    {
     "name": "stdout",
     "output_type": "stream",
     "text": [
      "Finished looping till the maximum random state, 20 for estimator <class 'sklearn.linear_model._ridge.Ridge'> in ---- 0.1690688133239746 s---\n",
      "Average difference in medians is: 0.002782941311837561\n",
      "Minimum p-values:  0.37568642602985114\n"
     ]
    },
    {
     "name": "stderr",
     "output_type": "stream",
     "text": [
      "100%|██████████| 20/20 [00:00<00:00, 686.44it/s]\n"
     ]
    },
    {
     "name": "stdout",
     "output_type": "stream",
     "text": [
      "Finished looping till the maximum random state, 20 for estimator <class 'sklearn.linear_model._stochastic_gradient.SGDRegressor'> in ---- 0.036041975021362305 s---\n",
      "Average difference in medians is: 1.0578352549733707\n",
      "Minimum p-values:  0.06927330386146749\n"
     ]
    },
    {
     "data": {
      "text/html": [
       "<div>\n",
       "<style scoped>\n",
       "    .dataframe tbody tr th:only-of-type {\n",
       "        vertical-align: middle;\n",
       "    }\n",
       "\n",
       "    .dataframe tbody tr th {\n",
       "        vertical-align: top;\n",
       "    }\n",
       "\n",
       "    .dataframe thead th {\n",
       "        text-align: right;\n",
       "    }\n",
       "</style>\n",
       "<table border=\"1\" class=\"dataframe\">\n",
       "  <thead>\n",
       "    <tr style=\"text-align: right;\">\n",
       "      <th></th>\n",
       "      <th>Name</th>\n",
       "      <th>p_values</th>\n",
       "      <th>min_p_value</th>\n",
       "      <th>avg_p_value</th>\n",
       "    </tr>\n",
       "  </thead>\n",
       "  <tbody>\n",
       "    <tr>\n",
       "      <th>7</th>\n",
       "      <td>HistGradientBoostingRegressor</td>\n",
       "      <td>[0.005694429104387728, 0.8227848974874117, 0.0...</td>\n",
       "      <td>0.003313</td>\n",
       "      <td>0.214009</td>\n",
       "    </tr>\n",
       "    <tr>\n",
       "      <th>5</th>\n",
       "      <td>ExtraTreesRegressor</td>\n",
       "      <td>[0.6366380334124973, 0.005919999389758984, 0.1...</td>\n",
       "      <td>0.005920</td>\n",
       "      <td>0.412829</td>\n",
       "    </tr>\n",
       "    <tr>\n",
       "      <th>1</th>\n",
       "      <td>BaggingRegressor</td>\n",
       "      <td>[0.13540856842602533, 0.8587031071819282, 0.80...</td>\n",
       "      <td>0.008514</td>\n",
       "      <td>0.482298</td>\n",
       "    </tr>\n",
       "    <tr>\n",
       "      <th>11</th>\n",
       "      <td>RandomForestRegressor</td>\n",
       "      <td>[0.046507275966178666, 0.38495241637529587, 0....</td>\n",
       "      <td>0.009934</td>\n",
       "      <td>0.286070</td>\n",
       "    </tr>\n",
       "    <tr>\n",
       "      <th>13</th>\n",
       "      <td>SGDRegressor</td>\n",
       "      <td>[0.5796119636647556, 0.8941347613654888, 0.310...</td>\n",
       "      <td>0.069273</td>\n",
       "      <td>0.395158</td>\n",
       "    </tr>\n",
       "    <tr>\n",
       "      <th>4</th>\n",
       "      <td>ExtraTreeRegressor</td>\n",
       "      <td>[0.8330245825956623, 0.7485380970212634, 0.935...</td>\n",
       "      <td>0.086282</td>\n",
       "      <td>0.574012</td>\n",
       "    </tr>\n",
       "    <tr>\n",
       "      <th>0</th>\n",
       "      <td>AdaBoostRegressor</td>\n",
       "      <td>[0.4712220335452597, 0.8041528076057658, 0.096...</td>\n",
       "      <td>0.096093</td>\n",
       "      <td>0.553925</td>\n",
       "    </tr>\n",
       "    <tr>\n",
       "      <th>10</th>\n",
       "      <td>RANSACRegressor</td>\n",
       "      <td>[0.10083091787109318, 0.1426168440707225, 0.62...</td>\n",
       "      <td>0.100831</td>\n",
       "      <td>0.379464</td>\n",
       "    </tr>\n",
       "    <tr>\n",
       "      <th>2</th>\n",
       "      <td>DecisionTreeRegressor</td>\n",
       "      <td>[0.4248415824836401, 0.628051623619422, 0.3908...</td>\n",
       "      <td>0.318469</td>\n",
       "      <td>0.506147</td>\n",
       "    </tr>\n",
       "    <tr>\n",
       "      <th>9</th>\n",
       "      <td>LinearSVR</td>\n",
       "      <td>[0.7518051575700552, 0.9998116667990791, 0.865...</td>\n",
       "      <td>0.330461</td>\n",
       "      <td>0.685188</td>\n",
       "    </tr>\n",
       "    <tr>\n",
       "      <th>12</th>\n",
       "      <td>Ridge</td>\n",
       "      <td>[0.5689796170511765, 0.4554667418600421, 0.589...</td>\n",
       "      <td>0.375686</td>\n",
       "      <td>0.573533</td>\n",
       "    </tr>\n",
       "    <tr>\n",
       "      <th>6</th>\n",
       "      <td>GradientBoostingRegressor</td>\n",
       "      <td>[0.8325952418103677, 0.7679155859649517, 0.898...</td>\n",
       "      <td>0.379057</td>\n",
       "      <td>0.736056</td>\n",
       "    </tr>\n",
       "    <tr>\n",
       "      <th>8</th>\n",
       "      <td>Lasso</td>\n",
       "      <td>[0.9999999998960611, 0.999999999979291, 0.9999...</td>\n",
       "      <td>1.000000</td>\n",
       "      <td>1.000000</td>\n",
       "    </tr>\n",
       "    <tr>\n",
       "      <th>3</th>\n",
       "      <td>ElasticNet</td>\n",
       "      <td>[0.9999999999622764, 0.9999999999927734, 0.999...</td>\n",
       "      <td>1.000000</td>\n",
       "      <td>1.000000</td>\n",
       "    </tr>\n",
       "  </tbody>\n",
       "</table>\n",
       "</div>"
      ],
      "text/plain": [
       "                             Name  \\\n",
       "7   HistGradientBoostingRegressor   \n",
       "5             ExtraTreesRegressor   \n",
       "1                BaggingRegressor   \n",
       "11          RandomForestRegressor   \n",
       "13                   SGDRegressor   \n",
       "4              ExtraTreeRegressor   \n",
       "0               AdaBoostRegressor   \n",
       "10                RANSACRegressor   \n",
       "2           DecisionTreeRegressor   \n",
       "9                       LinearSVR   \n",
       "12                          Ridge   \n",
       "6       GradientBoostingRegressor   \n",
       "8                           Lasso   \n",
       "3                      ElasticNet   \n",
       "\n",
       "                                             p_values  min_p_value  \\\n",
       "7   [0.005694429104387728, 0.8227848974874117, 0.0...     0.003313   \n",
       "5   [0.6366380334124973, 0.005919999389758984, 0.1...     0.005920   \n",
       "1   [0.13540856842602533, 0.8587031071819282, 0.80...     0.008514   \n",
       "11  [0.046507275966178666, 0.38495241637529587, 0....     0.009934   \n",
       "13  [0.5796119636647556, 0.8941347613654888, 0.310...     0.069273   \n",
       "4   [0.8330245825956623, 0.7485380970212634, 0.935...     0.086282   \n",
       "0   [0.4712220335452597, 0.8041528076057658, 0.096...     0.096093   \n",
       "10  [0.10083091787109318, 0.1426168440707225, 0.62...     0.100831   \n",
       "2   [0.4248415824836401, 0.628051623619422, 0.3908...     0.318469   \n",
       "9   [0.7518051575700552, 0.9998116667990791, 0.865...     0.330461   \n",
       "12  [0.5689796170511765, 0.4554667418600421, 0.589...     0.375686   \n",
       "6   [0.8325952418103677, 0.7679155859649517, 0.898...     0.379057   \n",
       "8   [0.9999999998960611, 0.999999999979291, 0.9999...     1.000000   \n",
       "3   [0.9999999999622764, 0.9999999999927734, 0.999...     1.000000   \n",
       "\n",
       "    avg_p_value  \n",
       "7      0.214009  \n",
       "5      0.412829  \n",
       "1      0.482298  \n",
       "11     0.286070  \n",
       "13     0.395158  \n",
       "4      0.574012  \n",
       "0      0.553925  \n",
       "10     0.379464  \n",
       "2      0.506147  \n",
       "9      0.685188  \n",
       "12     0.573533  \n",
       "6      0.736056  \n",
       "8      1.000000  \n",
       "3      1.000000  "
      ]
     },
     "execution_count": 10,
     "metadata": {},
     "output_type": "execute_result"
    }
   ],
   "source": [
    "import pandas as pd\n",
    "import test_on_representative_sample as tors\n",
    "import threadpoolctl\n",
    "\n",
    "threadpoolctl.threadpool_limits(limits=1)\n",
    "\n",
    "from sklearn import utils\n",
    "from inspect import signature\n",
    "\n",
    "ests = utils.all_estimators(type_filter='regressor')\n",
    "\n",
    "df = []\n",
    "\n",
    "for est in ests:\n",
    "    est = est[1]\n",
    "    if 'random_state' in signature(est).parameters and 'sample_weight' in signature(est.fit).parameters:\n",
    "        \n",
    "        ## record in dataframe name of estimator, and all pvalues and minimum pvalue and average pvalue\n",
    "        try:\n",
    "            df.append(tors.paired_test(est, n_features = 10, test='welch', max_seed=20,\n",
    "                    train_size = 200, n_samples_per_cv_group=1000,\n",
    "                    rep_test_size = 5, random_rejection_level = 0.1, max_repeats=3,\n",
    "                    correct_threshold=True, equal_var=False))\n",
    "        except ValueError:\n",
    "            print(est, \"with different random state led to the same predictions\")\n",
    "        \n",
    "df = pd.DataFrame(df)\n",
    "df.sort_values(by=['min_p_value'])\n",
    "\n"
   ]
  }
 ],
 "metadata": {
  "kernelspec": {
   "display_name": "Python 3",
   "language": "python",
   "name": "python3"
  },
  "language_info": {
   "codemirror_mode": {
    "name": "ipython",
    "version": 3
   },
   "file_extension": ".py",
   "mimetype": "text/x-python",
   "name": "python",
   "nbconvert_exporter": "python",
   "pygments_lexer": "ipython3",
   "version": "3.12.4"
  }
 },
 "nbformat": 4,
 "nbformat_minor": 2
}
