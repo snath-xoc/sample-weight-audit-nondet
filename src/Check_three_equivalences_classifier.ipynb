{
 "cells": [
  {
   "cell_type": "code",
   "execution_count": 4,
   "metadata": {},
   "outputs": [
    {
     "name": "stderr",
     "output_type": "stream",
     "text": [
      "100%|██████████| 20/20 [00:01<00:00, 11.65it/s]\n"
     ]
    },
    {
     "name": "stdout",
     "output_type": "stream",
     "text": [
      "Finished looping till the maximum random state, 20 for estimator <class 'sklearn.ensemble._bagging.BaggingClassifier'> in ---- 1.7738852500915527 s---\n",
      "Minimum p-values:  5.569062975843453e-05\n"
     ]
    },
    {
     "name": "stderr",
     "output_type": "stream",
     "text": [
      "100%|██████████| 20/20 [00:00<00:00, 158.83it/s]\n"
     ]
    },
    {
     "name": "stdout",
     "output_type": "stream",
     "text": [
      "Finished looping till the maximum random state, 20 for estimator <class 'sklearn.tree._classes.DecisionTreeClassifier'> in ---- 0.15132689476013184 s---\n",
      "Minimum p-values:  1.0\n"
     ]
    },
    {
     "name": "stderr",
     "output_type": "stream",
     "text": [
      "100%|██████████| 20/20 [00:00<00:00, 2397.77it/s]\n"
     ]
    },
    {
     "name": "stdout",
     "output_type": "stream",
     "text": [
      "Finished looping till the maximum random state, 20 for estimator <class 'sklearn.dummy.DummyClassifier'> in ---- 0.03084421157836914 s---\n",
      "Minimum p-values:  1.0\n"
     ]
    },
    {
     "name": "stderr",
     "output_type": "stream",
     "text": [
      "100%|██████████| 20/20 [00:00<00:00, 507.52it/s]\n"
     ]
    },
    {
     "name": "stdout",
     "output_type": "stream",
     "text": [
      "Finished looping till the maximum random state, 20 for estimator <class 'sklearn.tree._classes.ExtraTreeClassifier'> in ---- 0.06129097938537598 s---\n",
      "Minimum p-values:  1.0\n"
     ]
    },
    {
     "name": "stderr",
     "output_type": "stream",
     "text": [
      "100%|██████████| 20/20 [00:03<00:00,  6.08it/s]\n"
     ]
    },
    {
     "name": "stdout",
     "output_type": "stream",
     "text": [
      "Finished looping till the maximum random state, 20 for estimator <class 'sklearn.ensemble._forest.ExtraTreesClassifier'> in ---- 3.39034104347229 s---\n",
      "Minimum p-values:  1.0\n"
     ]
    },
    {
     "name": "stderr",
     "output_type": "stream",
     "text": [
      "100%|██████████| 20/20 [00:39<00:00,  1.99s/it]\n"
     ]
    },
    {
     "name": "stdout",
     "output_type": "stream",
     "text": [
      "Finished looping till the maximum random state, 20 for estimator <class 'sklearn.ensemble._gb.GradientBoostingClassifier'> in ---- 40.565723180770874 s---\n",
      "Minimum p-values:  0.0335416594061465\n"
     ]
    },
    {
     "name": "stderr",
     "output_type": "stream",
     "text": [
      "100%|██████████| 20/20 [00:25<00:00,  1.29s/it]\n"
     ]
    },
    {
     "name": "stdout",
     "output_type": "stream",
     "text": [
      "Finished looping till the maximum random state, 20 for estimator <class 'sklearn.ensemble._hist_gradient_boosting.gradient_boosting.HistGradientBoostingClassifier'> in ---- 26.59323787689209 s---\n",
      "Minimum p-values:  1.4508889103849681e-11\n"
     ]
    },
    {
     "name": "stderr",
     "output_type": "stream",
     "text": [
      "100%|██████████| 20/20 [00:07<00:00,  2.57it/s]\n"
     ]
    },
    {
     "name": "stdout",
     "output_type": "stream",
     "text": [
      "Finished looping till the maximum random state, 20 for estimator <class 'sklearn.svm._classes.LinearSVC'> in ---- 7.895606994628906 s---\n",
      "Minimum p-values:  5.803555641539872e-10\n"
     ]
    },
    {
     "name": "stderr",
     "output_type": "stream",
     "text": [
      "100%|██████████| 20/20 [00:05<00:00,  3.56it/s]\n"
     ]
    },
    {
     "name": "stdout",
     "output_type": "stream",
     "text": [
      "Finished looping till the maximum random state, 20 for estimator <class 'sklearn.linear_model._logistic.LogisticRegression'> in ---- 5.772161245346069 s---\n",
      "Minimum p-values:  5.803555641539872e-10\n"
     ]
    },
    {
     "name": "stderr",
     "output_type": "stream",
     "text": [
      "100%|██████████| 20/20 [27:22<00:00, 82.14s/it]\n"
     ]
    },
    {
     "name": "stdout",
     "output_type": "stream",
     "text": [
      "Finished looping till the maximum random state, 20 for estimator <class 'sklearn.linear_model._logistic.LogisticRegressionCV'> in ---- 1666.9031522274017 s---\n",
      "Minimum p-values:  0.001115801546231492\n"
     ]
    },
    {
     "name": "stderr",
     "output_type": "stream",
     "text": [
      "100%|██████████| 20/20 [00:02<00:00,  9.91it/s]\n"
     ]
    },
    {
     "name": "stdout",
     "output_type": "stream",
     "text": [
      "<class 'sklearn.svm._classes.NuSVC'> with different random state led to the same predictions\n"
     ]
    },
    {
     "name": "stderr",
     "output_type": "stream",
     "text": [
      "100%|██████████| 20/20 [00:00<00:00, 138.72it/s]\n"
     ]
    },
    {
     "name": "stdout",
     "output_type": "stream",
     "text": [
      "Finished looping till the maximum random state, 20 for estimator <class 'sklearn.linear_model._perceptron.Perceptron'> in ---- 0.17142796516418457 s---\n",
      "Minimum p-values:  1.4508889103849681e-11\n"
     ]
    },
    {
     "name": "stderr",
     "output_type": "stream",
     "text": [
      "100%|██████████| 20/20 [00:06<00:00,  2.87it/s]\n"
     ]
    },
    {
     "name": "stdout",
     "output_type": "stream",
     "text": [
      "Finished looping till the maximum random state, 20 for estimator <class 'sklearn.ensemble._forest.RandomForestClassifier'> in ---- 7.107722043991089 s---\n",
      "Minimum p-values:  9.54696510144592e-06\n"
     ]
    },
    {
     "name": "stderr",
     "output_type": "stream",
     "text": [
      "100%|██████████| 20/20 [00:00<00:00, 36.37it/s]\n"
     ]
    },
    {
     "name": "stdout",
     "output_type": "stream",
     "text": [
      "Finished looping till the maximum random state, 20 for estimator <class 'sklearn.linear_model._ridge.RidgeClassifier'> in ---- 0.5840630531311035 s---\n",
      "Minimum p-values:  0.0002704973445409677\n"
     ]
    },
    {
     "name": "stderr",
     "output_type": "stream",
     "text": [
      "100%|██████████| 20/20 [00:00<00:00, 30.38it/s]\n"
     ]
    },
    {
     "name": "stdout",
     "output_type": "stream",
     "text": [
      "Finished looping till the maximum random state, 20 for estimator <class 'sklearn.linear_model._stochastic_gradient.SGDClassifier'> in ---- 0.6907970905303955 s---\n",
      "Minimum p-values:  1.4508889103849681e-11\n"
     ]
    },
    {
     "name": "stderr",
     "output_type": "stream",
     "text": [
      "100%|██████████| 20/20 [00:00<00:00, 20.02it/s]"
     ]
    },
    {
     "name": "stdout",
     "output_type": "stream",
     "text": [
      "<class 'sklearn.svm._classes.SVC'> with different random state led to the same predictions\n"
     ]
    },
    {
     "name": "stderr",
     "output_type": "stream",
     "text": [
      "\n"
     ]
    },
    {
     "data": {
      "text/html": [
       "<div>\n",
       "<style scoped>\n",
       "    .dataframe tbody tr th:only-of-type {\n",
       "        vertical-align: middle;\n",
       "    }\n",
       "\n",
       "    .dataframe tbody tr th {\n",
       "        vertical-align: top;\n",
       "    }\n",
       "\n",
       "    .dataframe thead th {\n",
       "        text-align: right;\n",
       "    }\n",
       "</style>\n",
       "<table border=\"1\" class=\"dataframe\">\n",
       "  <thead>\n",
       "    <tr style=\"text-align: right;\">\n",
       "      <th></th>\n",
       "      <th>Name</th>\n",
       "      <th>p_values</th>\n",
       "      <th>min_p_value</th>\n",
       "      <th>avg_p_value</th>\n",
       "    </tr>\n",
       "  </thead>\n",
       "  <tbody>\n",
       "    <tr>\n",
       "      <th>6</th>\n",
       "      <td>HistGradientBoostingClassifier</td>\n",
       "      <td>[9.54696510144592e-06, 5.569062975843453e-05, ...</td>\n",
       "      <td>1.450889e-11</td>\n",
       "      <td>1.894636e-03</td>\n",
       "    </tr>\n",
       "    <tr>\n",
       "      <th>10</th>\n",
       "      <td>Perceptron</td>\n",
       "      <td>[1.4508889103849681e-11, 1.4508889103849681e-1...</td>\n",
       "      <td>1.450889e-11</td>\n",
       "      <td>1.823042e-09</td>\n",
       "    </tr>\n",
       "    <tr>\n",
       "      <th>13</th>\n",
       "      <td>SGDClassifier</td>\n",
       "      <td>[1.4508889103849681e-11, 1.4508889103849681e-1...</td>\n",
       "      <td>1.450889e-11</td>\n",
       "      <td>1.450889e-11</td>\n",
       "    </tr>\n",
       "    <tr>\n",
       "      <th>7</th>\n",
       "      <td>LinearSVC</td>\n",
       "      <td>[1.4334782434603487e-07, 1.3259673752008224e-0...</td>\n",
       "      <td>5.803556e-10</td>\n",
       "      <td>7.686867e-07</td>\n",
       "    </tr>\n",
       "    <tr>\n",
       "      <th>8</th>\n",
       "      <td>LogisticRegression</td>\n",
       "      <td>[0.0335416594061465, 1.4334782434603487e-07, 0...</td>\n",
       "      <td>5.803556e-10</td>\n",
       "      <td>1.941775e-03</td>\n",
       "    </tr>\n",
       "    <tr>\n",
       "      <th>11</th>\n",
       "      <td>RandomForestClassifier</td>\n",
       "      <td>[0.17453300569806826, 0.00396729438660086, 0.0...</td>\n",
       "      <td>9.546965e-06</td>\n",
       "      <td>6.081961e-02</td>\n",
       "    </tr>\n",
       "    <tr>\n",
       "      <th>0</th>\n",
       "      <td>BaggingClassifier</td>\n",
       "      <td>[0.17453300569806826, 0.012298612583953778, 5....</td>\n",
       "      <td>5.569063e-05</td>\n",
       "      <td>2.916947e-01</td>\n",
       "    </tr>\n",
       "    <tr>\n",
       "      <th>12</th>\n",
       "      <td>RidgeClassifier</td>\n",
       "      <td>[0.0335416594061465, 0.0335416594061465, 0.033...</td>\n",
       "      <td>2.704973e-04</td>\n",
       "      <td>1.102806e-01</td>\n",
       "    </tr>\n",
       "    <tr>\n",
       "      <th>9</th>\n",
       "      <td>LogisticRegressionCV</td>\n",
       "      <td>[0.012298612583953778, 0.012298612583953778, 0...</td>\n",
       "      <td>1.115802e-03</td>\n",
       "      <td>1.284310e-02</td>\n",
       "    </tr>\n",
       "    <tr>\n",
       "      <th>5</th>\n",
       "      <td>GradientBoostingClassifier</td>\n",
       "      <td>[0.33559098126008213, 0.17453300569806826, 0.0...</td>\n",
       "      <td>3.354166e-02</td>\n",
       "      <td>2.650343e-01</td>\n",
       "    </tr>\n",
       "    <tr>\n",
       "      <th>1</th>\n",
       "      <td>DecisionTreeClassifier</td>\n",
       "      <td>[1.0, 1.0, 1.0, 1.0, 1.0, 1.0, 1.0, 1.0, 1.0, ...</td>\n",
       "      <td>1.000000e+00</td>\n",
       "      <td>1.000000e+00</td>\n",
       "    </tr>\n",
       "    <tr>\n",
       "      <th>2</th>\n",
       "      <td>DummyClassifier</td>\n",
       "      <td>[1.0, 1.0, 1.0, 1.0, 1.0, 1.0, 1.0, 1.0, 1.0, ...</td>\n",
       "      <td>1.000000e+00</td>\n",
       "      <td>1.000000e+00</td>\n",
       "    </tr>\n",
       "    <tr>\n",
       "      <th>3</th>\n",
       "      <td>ExtraTreeClassifier</td>\n",
       "      <td>[1.0, 1.0, 1.0, 1.0, 1.0, 1.0, 1.0, 1.0, 1.0, ...</td>\n",
       "      <td>1.000000e+00</td>\n",
       "      <td>1.000000e+00</td>\n",
       "    </tr>\n",
       "    <tr>\n",
       "      <th>4</th>\n",
       "      <td>ExtraTreesClassifier</td>\n",
       "      <td>[1.0, 1.0, 1.0, 1.0, 1.0, 1.0, 1.0, 1.0, 1.0, ...</td>\n",
       "      <td>1.000000e+00</td>\n",
       "      <td>1.000000e+00</td>\n",
       "    </tr>\n",
       "  </tbody>\n",
       "</table>\n",
       "</div>"
      ],
      "text/plain": [
       "                              Name  \\\n",
       "6   HistGradientBoostingClassifier   \n",
       "10                      Perceptron   \n",
       "13                   SGDClassifier   \n",
       "7                        LinearSVC   \n",
       "8               LogisticRegression   \n",
       "11          RandomForestClassifier   \n",
       "0                BaggingClassifier   \n",
       "12                 RidgeClassifier   \n",
       "9             LogisticRegressionCV   \n",
       "5       GradientBoostingClassifier   \n",
       "1           DecisionTreeClassifier   \n",
       "2                  DummyClassifier   \n",
       "3              ExtraTreeClassifier   \n",
       "4             ExtraTreesClassifier   \n",
       "\n",
       "                                             p_values   min_p_value  \\\n",
       "6   [9.54696510144592e-06, 5.569062975843453e-05, ...  1.450889e-11   \n",
       "10  [1.4508889103849681e-11, 1.4508889103849681e-1...  1.450889e-11   \n",
       "13  [1.4508889103849681e-11, 1.4508889103849681e-1...  1.450889e-11   \n",
       "7   [1.4334782434603487e-07, 1.3259673752008224e-0...  5.803556e-10   \n",
       "8   [0.0335416594061465, 1.4334782434603487e-07, 0...  5.803556e-10   \n",
       "11  [0.17453300569806826, 0.00396729438660086, 0.0...  9.546965e-06   \n",
       "0   [0.17453300569806826, 0.012298612583953778, 5....  5.569063e-05   \n",
       "12  [0.0335416594061465, 0.0335416594061465, 0.033...  2.704973e-04   \n",
       "9   [0.012298612583953778, 0.012298612583953778, 0...  1.115802e-03   \n",
       "5   [0.33559098126008213, 0.17453300569806826, 0.0...  3.354166e-02   \n",
       "1   [1.0, 1.0, 1.0, 1.0, 1.0, 1.0, 1.0, 1.0, 1.0, ...  1.000000e+00   \n",
       "2   [1.0, 1.0, 1.0, 1.0, 1.0, 1.0, 1.0, 1.0, 1.0, ...  1.000000e+00   \n",
       "3   [1.0, 1.0, 1.0, 1.0, 1.0, 1.0, 1.0, 1.0, 1.0, ...  1.000000e+00   \n",
       "4   [1.0, 1.0, 1.0, 1.0, 1.0, 1.0, 1.0, 1.0, 1.0, ...  1.000000e+00   \n",
       "\n",
       "     avg_p_value  \n",
       "6   1.894636e-03  \n",
       "10  1.823042e-09  \n",
       "13  1.450889e-11  \n",
       "7   7.686867e-07  \n",
       "8   1.941775e-03  \n",
       "11  6.081961e-02  \n",
       "0   2.916947e-01  \n",
       "12  1.102806e-01  \n",
       "9   1.284310e-02  \n",
       "5   2.650343e-01  \n",
       "1   1.000000e+00  \n",
       "2   1.000000e+00  \n",
       "3   1.000000e+00  \n",
       "4   1.000000e+00  "
      ]
     },
     "execution_count": 4,
     "metadata": {},
     "output_type": "execute_result"
    }
   ],
   "source": [
    "import pandas as pd\n",
    "from sample_weight_audit import paired_test\n",
    "import threadpoolctl\n",
    "\n",
    "threadpoolctl.threadpool_limits(limits=1)\n",
    "import warnings\n",
    "warnings.filterwarnings(\"ignore\")\n",
    "\n",
    "from sklearn import utils\n",
    "from inspect import signature\n",
    "\n",
    "ests = utils.all_estimators(type_filter='classifier')\n",
    "\n",
    "df = []\n",
    "\n",
    "for est in ests[1:]:\n",
    "    est = est[1]\n",
    "    if 'random_state' in signature(est).parameters and 'sample_weight' in signature(est.fit).parameters:\n",
    "        ## record in dataframe name of estimator, and all pvalues and minimum pvalue and average pvalue\n",
    "        try:\n",
    "            df.append(paired_test(est, n_features = 10, test='welch', max_seed=20,\n",
    "                train_size = 300, n_samples_per_cv_group=500,\n",
    "                rep_test_size = 20, max_repeats=5, n_classes=8,\n",
    "                correct_threshold=True, equal_var=False,issparse=False))\n",
    "        except ValueError:\n",
    "            print(est, \"with different random state led to the same predictions\")\n",
    "        \n",
    "df = pd.DataFrame(df)\n",
    "df.sort_values(by=['min_p_value'])\n",
    "\n"
   ]
  },
  {
   "cell_type": "code",
   "execution_count": null,
   "metadata": {},
   "outputs": [],
   "source": []
  }
 ],
 "metadata": {
  "kernelspec": {
   "display_name": "Python 3",
   "language": "python",
   "name": "python3"
  },
  "language_info": {
   "codemirror_mode": {
    "name": "ipython",
    "version": 3
   },
   "file_extension": ".py",
   "mimetype": "text/x-python",
   "name": "python",
   "nbconvert_exporter": "python",
   "pygments_lexer": "ipython3",
   "version": "3.12.4"
  }
 },
 "nbformat": 4,
 "nbformat_minor": 2
}
