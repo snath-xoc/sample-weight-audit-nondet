{
 "cells": [
  {
   "cell_type": "code",
   "execution_count": 6,
   "metadata": {},
   "outputs": [
    {
     "name": "stdout",
     "output_type": "stream",
     "text": [
      "(900, 2) (900,)\n"
     ]
    },
    {
     "name": "stderr",
     "output_type": "stream",
     "text": [
      "100%|██████████| 20/20 [00:00<00:00, 242.24it/s]\n"
     ]
    },
    {
     "name": "stdout",
     "output_type": "stream",
     "text": [
      "Finished looping till the maximum random state, 20 for estimator <class 'sklearn.cluster._bisect_k_means.BisectingKMeans'> in ---- 0.0956871509552002 s---\n",
      "Minimum p-values:  0.0002704973445409677\n",
      "(900, 2) (900,)\n",
      "<class 'sklearn.preprocessing._discretization.KBinsDiscretizer'> with different random state led to the same predictions\n",
      "(900, 2) (900,)\n"
     ]
    },
    {
     "name": "stderr",
     "output_type": "stream",
     "text": [
      "100%|██████████| 20/20 [00:00<00:00, 514.16it/s]\n"
     ]
    },
    {
     "name": "stdout",
     "output_type": "stream",
     "text": [
      "Finished looping till the maximum random state, 20 for estimator <class 'sklearn.cluster._kmeans.KMeans'> in ---- 0.047026872634887695 s---\n",
      "Minimum p-values:  0.08105771161340149\n",
      "(900, 2) (900,)\n"
     ]
    },
    {
     "name": "stderr",
     "output_type": "stream",
     "text": [
      "100%|██████████| 20/20 [00:00<00:00, 189.20it/s]\n"
     ]
    },
    {
     "name": "stdout",
     "output_type": "stream",
     "text": [
      "Finished looping till the maximum random state, 20 for estimator <class 'sklearn.cluster._kmeans.MiniBatchKMeans'> in ---- 0.11656403541564941 s---\n",
      "Minimum p-values:  0.17453300569806826\n",
      "(900, 2) (900,)\n"
     ]
    },
    {
     "name": "stderr",
     "output_type": "stream",
     "text": [
      "100%|██████████| 20/20 [00:00<00:00, 45.94it/s]"
     ]
    },
    {
     "name": "stdout",
     "output_type": "stream",
     "text": [
      "<class 'sklearn.ensemble._forest.RandomTreesEmbedding'> with different random state led to the same predictions\n"
     ]
    },
    {
     "name": "stderr",
     "output_type": "stream",
     "text": [
      "\n"
     ]
    },
    {
     "data": {
      "text/html": [
       "<div>\n",
       "<style scoped>\n",
       "    .dataframe tbody tr th:only-of-type {\n",
       "        vertical-align: middle;\n",
       "    }\n",
       "\n",
       "    .dataframe tbody tr th {\n",
       "        vertical-align: top;\n",
       "    }\n",
       "\n",
       "    .dataframe thead th {\n",
       "        text-align: right;\n",
       "    }\n",
       "</style>\n",
       "<table border=\"1\" class=\"dataframe\">\n",
       "  <thead>\n",
       "    <tr style=\"text-align: right;\">\n",
       "      <th></th>\n",
       "      <th>Name</th>\n",
       "      <th>p_values</th>\n",
       "      <th>min_p_value</th>\n",
       "      <th>avg_p_value</th>\n",
       "    </tr>\n",
       "  </thead>\n",
       "  <tbody>\n",
       "    <tr>\n",
       "      <th>0</th>\n",
       "      <td>BisectingKMeans</td>\n",
       "      <td>[0.0002704973445409677, 0.0002704973445409677,...</td>\n",
       "      <td>0.000270</td>\n",
       "      <td>0.000270</td>\n",
       "    </tr>\n",
       "    <tr>\n",
       "      <th>1</th>\n",
       "      <td>KMeans</td>\n",
       "      <td>[0.08105771161340149, 0.08105771161340149, 0.0...</td>\n",
       "      <td>0.081058</td>\n",
       "      <td>0.081058</td>\n",
       "    </tr>\n",
       "    <tr>\n",
       "      <th>2</th>\n",
       "      <td>MiniBatchKMeans</td>\n",
       "      <td>[0.33559098126008213, 0.17453300569806826, 0.3...</td>\n",
       "      <td>0.174533</td>\n",
       "      <td>0.271168</td>\n",
       "    </tr>\n",
       "  </tbody>\n",
       "</table>\n",
       "</div>"
      ],
      "text/plain": [
       "              Name                                           p_values  \\\n",
       "0  BisectingKMeans  [0.0002704973445409677, 0.0002704973445409677,...   \n",
       "1           KMeans  [0.08105771161340149, 0.08105771161340149, 0.0...   \n",
       "2  MiniBatchKMeans  [0.33559098126008213, 0.17453300569806826, 0.3...   \n",
       "\n",
       "   min_p_value  avg_p_value  \n",
       "0     0.000270     0.000270  \n",
       "1     0.081058     0.081058  \n",
       "2     0.174533     0.271168  "
      ]
     },
     "execution_count": 6,
     "metadata": {},
     "output_type": "execute_result"
    }
   ],
   "source": [
    "import pandas as pd\n",
    "from sample_weight_audit import paired_test\n",
    "import threadpoolctl\n",
    "\n",
    "threadpoolctl.threadpool_limits(limits=1)\n",
    "import warnings\n",
    "warnings.filterwarnings(\"ignore\")\n",
    "\n",
    "from sklearn import utils\n",
    "from inspect import signature\n",
    "\n",
    "ests = utils.all_estimators(type_filter='transformer')\n",
    "\n",
    "df = []\n",
    "\n",
    "for est in ests:\n",
    "    est = est[1]\n",
    "    \n",
    "    if 'random_state' in signature(est).parameters and 'sample_weight' in signature(est.fit).parameters:\n",
    "        ## record in dataframe name of estimator, and all pvalues and minimum pvalue and average pvalue\n",
    "        try:\n",
    "            df.append(paired_test(est, n_features = 10, test='ed_perm', max_seed=20,\n",
    "                    train_size = 300, n_samples_per_cv_group=500,\n",
    "                    rep_test_size = 5, max_repeats=3,\n",
    "                    correct_threshold=True, equal_var=False,issparse=False))\n",
    "        except ValueError:\n",
    "            print(est, \"with different random state led to the same predictions\")\n",
    "        \n",
    "df = pd.DataFrame(df)\n",
    "df.sort_values(by=['min_p_value'])\n",
    "\n"
   ]
  },
  {
   "cell_type": "code",
   "execution_count": null,
   "metadata": {},
   "outputs": [],
   "source": []
  }
 ],
 "metadata": {
  "kernelspec": {
   "display_name": "Python 3",
   "language": "python",
   "name": "python3"
  },
  "language_info": {
   "codemirror_mode": {
    "name": "ipython",
    "version": 3
   },
   "file_extension": ".py",
   "mimetype": "text/x-python",
   "name": "python",
   "nbconvert_exporter": "python",
   "pygments_lexer": "ipython3",
   "version": "3.12.4"
  }
 },
 "nbformat": 4,
 "nbformat_minor": 2
}
