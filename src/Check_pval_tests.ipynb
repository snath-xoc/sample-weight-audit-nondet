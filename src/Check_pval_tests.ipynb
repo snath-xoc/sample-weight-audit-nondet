{
 "cells": [
  {
   "cell_type": "code",
   "execution_count": 1,
   "metadata": {},
   "outputs": [],
   "source": [
    "import numpy as np\n",
    "from sample_weight_audit import scan_for_pvalue\n",
    "import matplotlib.pyplot as plt\n",
    "import pandas as pd"
   ]
  },
  {
   "cell_type": "code",
   "execution_count": 8,
   "metadata": {},
   "outputs": [],
   "source": [
    "import numpy as np\n",
    "\n",
    "\n",
    "rng = np.random.default_rng()\n",
    "sample_size = 300\n",
    "n_features = 100\n",
    "cov = np.eye(n_features) * rng.uniform(1, 5, n_features)\n",
    "low_rank = rng.normal(scale=0.01, size=(n_features, 2))\n",
    "cov += low_rank @ low_rank.T\n",
    "\n",
    "mean_a = np.zeros(n_features)\n",
    "cov_a = cov.copy()\n",
    "a = rng.multivariate_normal(mean=mean_a, cov=cov_a, size=sample_size)\n",
    "\n",
    "mean_b = np.zeros(n_features)\n",
    "mean_b[0] += a[:, 0].std() * 0.3\n",
    "cov_b = cov.copy()\n",
    "cov_b[0, 0] *= 5\n",
    "b = rng.multivariate_normal(mean=mean_b, cov=cov_b, size=sample_size)"
   ]
  },
  {
   "cell_type": "code",
   "execution_count": 9,
   "metadata": {},
   "outputs": [
    {
     "name": "stdout",
     "output_type": "stream",
     "text": [
      "ed perm p-value: 0.650\n",
      "kruskal diff p-value: 0.4989\n"
     ]
    }
   ],
   "source": [
    "results = {}\n",
    "for test in [\"welch\",\"kstest\",\"ed_perm\",\"kruskal\",\"mannwhitneyu\"]:\n",
    "    result,_,_= scan_for_pvalue(a,b,test=test,equal_var=True,perm=1000,verbose=True)\n",
    "    results[test]=result.pvalue\n"
   ]
  },
  {
   "cell_type": "code",
   "execution_count": 10,
   "metadata": {},
   "outputs": [
    {
     "data": {
      "text/plain": [
       "{'welch': np.float64(0.022667039597549083),\n",
       " 'kstest': np.float64(2.1664543157120107e-06),\n",
       " 'ed_perm': np.float64(0.65),\n",
       " 'kruskal': np.float64(0.49891419814127175),\n",
       " 'mannwhitneyu': np.float64(0.016798283388130757)}"
      ]
     },
     "execution_count": 10,
     "metadata": {},
     "output_type": "execute_result"
    }
   ],
   "source": [
    "results"
   ]
  },
  {
   "cell_type": "code",
   "execution_count": null,
   "metadata": {},
   "outputs": [],
   "source": []
  }
 ],
 "metadata": {
  "kernelspec": {
   "display_name": "Python 3",
   "language": "python",
   "name": "python3"
  },
  "language_info": {
   "codemirror_mode": {
    "name": "ipython",
    "version": 3
   },
   "file_extension": ".py",
   "mimetype": "text/x-python",
   "name": "python",
   "nbconvert_exporter": "python",
   "pygments_lexer": "ipython3",
   "version": "3.12.4"
  }
 },
 "nbformat": 4,
 "nbformat_minor": 2
}
