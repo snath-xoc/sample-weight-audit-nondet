{
 "cells": [
  {
   "cell_type": "code",
   "execution_count": 2,
   "metadata": {},
   "outputs": [
    {
     "name": "stderr",
     "output_type": "stream",
     "text": [
      "100%|██████████| 20/20 [00:02<00:00,  7.93it/s]\n"
     ]
    },
    {
     "name": "stdout",
     "output_type": "stream",
     "text": [
      "<class 'sklearn.ensemble._weight_boosting.AdaBoostClassifier'> with different random state led to the same predictions\n"
     ]
    },
    {
     "name": "stderr",
     "output_type": "stream",
     "text": [
      "100%|██████████| 20/20 [00:01<00:00, 11.30it/s]\n"
     ]
    },
    {
     "name": "stdout",
     "output_type": "stream",
     "text": [
      "Finished looping till the maximum random state, 20 for estimator <class 'sklearn.ensemble._bagging.BaggingClassifier'> in ---- 1.937757968902588 s---\n",
      "Minimum p-values:  0.000657641197246586\n"
     ]
    },
    {
     "name": "stderr",
     "output_type": "stream",
     "text": [
      "100%|██████████| 20/20 [00:00<00:00, 162.95it/s]\n"
     ]
    },
    {
     "name": "stdout",
     "output_type": "stream",
     "text": [
      "Finished looping till the maximum random state, 20 for estimator <class 'sklearn.tree._classes.DecisionTreeClassifier'> in ---- 0.13649702072143555 s---\n",
      "Minimum p-values:  1.0\n"
     ]
    },
    {
     "name": "stderr",
     "output_type": "stream",
     "text": [
      "100%|██████████| 20/20 [00:00<00:00, 2550.12it/s]\n"
     ]
    },
    {
     "name": "stdout",
     "output_type": "stream",
     "text": [
      "Finished looping till the maximum random state, 20 for estimator <class 'sklearn.dummy.DummyClassifier'> in ---- 0.019623994827270508 s---\n",
      "Minimum p-values:  1.0\n"
     ]
    },
    {
     "name": "stderr",
     "output_type": "stream",
     "text": [
      "100%|██████████| 20/20 [00:00<00:00, 585.02it/s]\n"
     ]
    },
    {
     "name": "stdout",
     "output_type": "stream",
     "text": [
      "Finished looping till the maximum random state, 20 for estimator <class 'sklearn.tree._classes.ExtraTreeClassifier'> in ---- 0.04641413688659668 s---\n",
      "Minimum p-values:  1.0\n"
     ]
    },
    {
     "name": "stderr",
     "output_type": "stream",
     "text": [
      "100%|██████████| 20/20 [00:03<00:00,  6.43it/s]\n"
     ]
    },
    {
     "name": "stdout",
     "output_type": "stream",
     "text": [
      "Finished looping till the maximum random state, 20 for estimator <class 'sklearn.ensemble._forest.ExtraTreesClassifier'> in ---- 3.1940019130706787 s---\n",
      "Minimum p-values:  1.0\n"
     ]
    },
    {
     "name": "stderr",
     "output_type": "stream",
     "text": [
      "100%|██████████| 20/20 [00:38<00:00,  1.92s/it]\n"
     ]
    },
    {
     "name": "stdout",
     "output_type": "stream",
     "text": [
      "Finished looping till the maximum random state, 20 for estimator <class 'sklearn.ensemble._gb.GradientBoostingClassifier'> in ---- 39.171663999557495 s---\n",
      "Minimum p-values:  0.1441357082211631\n"
     ]
    },
    {
     "name": "stderr",
     "output_type": "stream",
     "text": [
      "100%|██████████| 20/20 [00:24<00:00,  1.22s/it]\n"
     ]
    },
    {
     "name": "stdout",
     "output_type": "stream",
     "text": [
      "Finished looping till the maximum random state, 20 for estimator <class 'sklearn.ensemble._hist_gradient_boosting.gradient_boosting.HistGradientBoostingClassifier'> in ---- 24.953912019729614 s---\n",
      "Minimum p-values:  1.3358105709136087e-07\n"
     ]
    },
    {
     "name": "stderr",
     "output_type": "stream",
     "text": [
      "100%|██████████| 20/20 [00:07<00:00,  2.72it/s]\n"
     ]
    },
    {
     "name": "stdout",
     "output_type": "stream",
     "text": [
      "Finished looping till the maximum random state, 20 for estimator <class 'sklearn.svm._classes.LinearSVC'> in ---- 7.461781978607178 s---\n",
      "Minimum p-values:  0.00019091902448181822\n"
     ]
    },
    {
     "name": "stderr",
     "output_type": "stream",
     "text": [
      "100%|██████████| 20/20 [00:05<00:00,  3.37it/s]\n"
     ]
    },
    {
     "name": "stdout",
     "output_type": "stream",
     "text": [
      "Finished looping till the maximum random state, 20 for estimator <class 'sklearn.linear_model._logistic.LogisticRegression'> in ---- 6.1061670780181885 s---\n",
      "Minimum p-values:  0.00012206238815082165\n"
     ]
    },
    {
     "name": "stderr",
     "output_type": "stream",
     "text": [
      " 35%|███▌      | 7/20 [09:24<17:26, 80.49s/it]"
     ]
    }
   ],
   "source": [
    "import pandas as pd\n",
    "from sample_weight_audit import paired_test\n",
    "import threadpoolctl\n",
    "\n",
    "threadpoolctl.threadpool_limits(limits=1)\n",
    "import warnings\n",
    "warnings.filterwarnings(\"ignore\")\n",
    "\n",
    "from sklearn import utils\n",
    "from inspect import signature\n",
    "\n",
    "ests = utils.all_estimators(type_filter='classifier')\n",
    "\n",
    "df = []\n",
    "\n",
    "for est in ests:\n",
    "    est = est[1]\n",
    "    if 'random_state' in signature(est).parameters and 'sample_weight' in signature(est.fit).parameters:\n",
    "\n",
    "        ## record in dataframe name of estimator, and all pvalues and minimum pvalue and average pvalue\n",
    "        try:\n",
    "            df.append(paired_test(est, n_features = 10, test='welch', max_seed=20,\n",
    "                train_size = 300, n_samples_per_cv_group=500,\n",
    "                rep_test_size = 20, max_repeats=5, n_classes=8,\n",
    "                correct_threshold=True, equal_var=False,issparse=False))\n",
    "        except ValueError:\n",
    "            print(est, \"with different random state led to the same predictions\")\n",
    "        \n",
    "df = pd.DataFrame(df)\n",
    "df.sort_values(by=['min_p_value'])\n",
    "\n"
   ]
  },
  {
   "cell_type": "code",
   "execution_count": null,
   "metadata": {},
   "outputs": [],
   "source": []
  }
 ],
 "metadata": {
  "kernelspec": {
   "display_name": "Python 3",
   "language": "python",
   "name": "python3"
  },
  "language_info": {
   "codemirror_mode": {
    "name": "ipython",
    "version": 3
   },
   "file_extension": ".py",
   "mimetype": "text/x-python",
   "name": "python",
   "nbconvert_exporter": "python",
   "pygments_lexer": "ipython3",
   "version": "3.12.4"
  }
 },
 "nbformat": 4,
 "nbformat_minor": 2
}
