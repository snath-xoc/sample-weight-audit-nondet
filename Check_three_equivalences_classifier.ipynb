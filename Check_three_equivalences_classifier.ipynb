{
 "cells": [
  {
   "cell_type": "code",
   "execution_count": 2,
   "metadata": {},
   "outputs": [
    {
     "name": "stderr",
     "output_type": "stream",
     "text": [
      "100%|██████████| 20/20 [00:02<00:00,  7.93it/s]\n"
     ]
    },
    {
     "name": "stdout",
     "output_type": "stream",
     "text": [
      "<class 'sklearn.ensemble._weight_boosting.AdaBoostClassifier'> with different random state led to the same predictions\n"
     ]
    },
    {
     "name": "stderr",
     "output_type": "stream",
     "text": [
      "100%|██████████| 20/20 [00:01<00:00, 11.30it/s]\n"
     ]
    },
    {
     "name": "stdout",
     "output_type": "stream",
     "text": [
      "Finished looping till the maximum random state, 20 for estimator <class 'sklearn.ensemble._bagging.BaggingClassifier'> in ---- 1.937757968902588 s---\n",
      "Minimum p-values:  0.000657641197246586\n"
     ]
    },
    {
     "name": "stderr",
     "output_type": "stream",
     "text": [
      "100%|██████████| 20/20 [00:00<00:00, 162.95it/s]\n"
     ]
    },
    {
     "name": "stdout",
     "output_type": "stream",
     "text": [
      "Finished looping till the maximum random state, 20 for estimator <class 'sklearn.tree._classes.DecisionTreeClassifier'> in ---- 0.13649702072143555 s---\n",
      "Minimum p-values:  1.0\n"
     ]
    },
    {
     "name": "stderr",
     "output_type": "stream",
     "text": [
      "100%|██████████| 20/20 [00:00<00:00, 2550.12it/s]\n"
     ]
    },
    {
     "name": "stdout",
     "output_type": "stream",
     "text": [
      "Finished looping till the maximum random state, 20 for estimator <class 'sklearn.dummy.DummyClassifier'> in ---- 0.019623994827270508 s---\n",
      "Minimum p-values:  1.0\n"
     ]
    },
    {
     "name": "stderr",
     "output_type": "stream",
     "text": [
      "100%|██████████| 20/20 [00:00<00:00, 585.02it/s]\n"
     ]
    },
    {
     "name": "stdout",
     "output_type": "stream",
     "text": [
      "Finished looping till the maximum random state, 20 for estimator <class 'sklearn.tree._classes.ExtraTreeClassifier'> in ---- 0.04641413688659668 s---\n",
      "Minimum p-values:  1.0\n"
     ]
    },
    {
     "name": "stderr",
     "output_type": "stream",
     "text": [
      "100%|██████████| 20/20 [00:03<00:00,  6.43it/s]\n"
     ]
    },
    {
     "name": "stdout",
     "output_type": "stream",
     "text": [
      "Finished looping till the maximum random state, 20 for estimator <class 'sklearn.ensemble._forest.ExtraTreesClassifier'> in ---- 3.1940019130706787 s---\n",
      "Minimum p-values:  1.0\n"
     ]
    },
    {
     "name": "stderr",
     "output_type": "stream",
     "text": [
      "100%|██████████| 20/20 [00:38<00:00,  1.92s/it]\n"
     ]
    },
    {
     "name": "stdout",
     "output_type": "stream",
     "text": [
      "Finished looping till the maximum random state, 20 for estimator <class 'sklearn.ensemble._gb.GradientBoostingClassifier'> in ---- 39.171663999557495 s---\n",
      "Minimum p-values:  0.1441357082211631\n"
     ]
    },
    {
     "name": "stderr",
     "output_type": "stream",
     "text": [
      "100%|██████████| 20/20 [00:24<00:00,  1.22s/it]\n"
     ]
    },
    {
     "name": "stdout",
     "output_type": "stream",
     "text": [
      "Finished looping till the maximum random state, 20 for estimator <class 'sklearn.ensemble._hist_gradient_boosting.gradient_boosting.HistGradientBoostingClassifier'> in ---- 24.953912019729614 s---\n",
      "Minimum p-values:  1.3358105709136087e-07\n"
     ]
    },
    {
     "name": "stderr",
     "output_type": "stream",
     "text": [
      "100%|██████████| 20/20 [00:07<00:00,  2.72it/s]\n"
     ]
    },
    {
     "name": "stdout",
     "output_type": "stream",
     "text": [
      "Finished looping till the maximum random state, 20 for estimator <class 'sklearn.svm._classes.LinearSVC'> in ---- 7.461781978607178 s---\n",
      "Minimum p-values:  0.00019091902448181822\n"
     ]
    },
    {
     "name": "stderr",
     "output_type": "stream",
     "text": [
      "100%|██████████| 20/20 [00:05<00:00,  3.37it/s]\n"
     ]
    },
    {
     "name": "stdout",
     "output_type": "stream",
     "text": [
      "Finished looping till the maximum random state, 20 for estimator <class 'sklearn.linear_model._logistic.LogisticRegression'> in ---- 6.1061670780181885 s---\n",
      "Minimum p-values:  0.00012206238815082165\n"
     ]
    },
    {
     "name": "stderr",
     "output_type": "stream",
     "text": [
      "100%|██████████| 20/20 [4:44:39<00:00, 853.97s/it]   \n"
     ]
    },
    {
     "name": "stdout",
     "output_type": "stream",
     "text": [
      "Finished looping till the maximum random state, 20 for estimator <class 'sklearn.linear_model._logistic.LogisticRegressionCV'> in ---- 17103.897539138794 s---\n",
      "Minimum p-values:  0.1301596479526453\n"
     ]
    },
    {
     "name": "stderr",
     "output_type": "stream",
     "text": [
      "100%|██████████| 20/20 [00:01<00:00, 10.55it/s]\n"
     ]
    },
    {
     "name": "stdout",
     "output_type": "stream",
     "text": [
      "<class 'sklearn.svm._classes.NuSVC'> with different random state led to the same predictions\n"
     ]
    },
    {
     "name": "stderr",
     "output_type": "stream",
     "text": [
      "100%|██████████| 20/20 [00:00<00:00, 155.56it/s]\n"
     ]
    },
    {
     "name": "stdout",
     "output_type": "stream",
     "text": [
      "Finished looping till the maximum random state, 20 for estimator <class 'sklearn.linear_model._perceptron.Perceptron'> in ---- 0.1412339210510254 s---\n",
      "Minimum p-values:  1.2263600714833464e-16\n"
     ]
    },
    {
     "name": "stderr",
     "output_type": "stream",
     "text": [
      "100%|██████████| 20/20 [00:31<00:00,  1.57s/it]\n"
     ]
    },
    {
     "name": "stdout",
     "output_type": "stream",
     "text": [
      "Finished looping till the maximum random state, 20 for estimator <class 'sklearn.ensemble._forest.RandomForestClassifier'> in ---- 31.551093101501465 s---\n",
      "Minimum p-values:  5.690640037886891e-05\n"
     ]
    },
    {
     "name": "stderr",
     "output_type": "stream",
     "text": [
      "100%|██████████| 20/20 [00:00<00:00, 41.93it/s]\n"
     ]
    },
    {
     "name": "stdout",
     "output_type": "stream",
     "text": [
      "Finished looping till the maximum random state, 20 for estimator <class 'sklearn.linear_model._ridge.RidgeClassifier'> in ---- 0.4969956874847412 s---\n",
      "Minimum p-values:  0.13089510376993768\n"
     ]
    },
    {
     "name": "stderr",
     "output_type": "stream",
     "text": [
      "100%|██████████| 20/20 [00:00<00:00, 35.00it/s]\n"
     ]
    },
    {
     "name": "stdout",
     "output_type": "stream",
     "text": [
      "Finished looping till the maximum random state, 20 for estimator <class 'sklearn.linear_model._stochastic_gradient.SGDClassifier'> in ---- 0.5886309146881104 s---\n",
      "Minimum p-values:  2.437098454774723e-16\n"
     ]
    },
    {
     "name": "stderr",
     "output_type": "stream",
     "text": [
      "100%|██████████| 20/20 [00:00<00:00, 21.86it/s]"
     ]
    },
    {
     "name": "stdout",
     "output_type": "stream",
     "text": [
      "<class 'sklearn.svm._classes.SVC'> with different random state led to the same predictions\n"
     ]
    },
    {
     "name": "stderr",
     "output_type": "stream",
     "text": [
      "\n"
     ]
    },
    {
     "data": {
      "text/html": [
       "<div>\n",
       "<style scoped>\n",
       "    .dataframe tbody tr th:only-of-type {\n",
       "        vertical-align: middle;\n",
       "    }\n",
       "\n",
       "    .dataframe tbody tr th {\n",
       "        vertical-align: top;\n",
       "    }\n",
       "\n",
       "    .dataframe thead th {\n",
       "        text-align: right;\n",
       "    }\n",
       "</style>\n",
       "<table border=\"1\" class=\"dataframe\">\n",
       "  <thead>\n",
       "    <tr style=\"text-align: right;\">\n",
       "      <th></th>\n",
       "      <th>Name</th>\n",
       "      <th>p_values</th>\n",
       "      <th>min_p_value</th>\n",
       "      <th>avg_p_value</th>\n",
       "    </tr>\n",
       "  </thead>\n",
       "  <tbody>\n",
       "    <tr>\n",
       "      <th>10</th>\n",
       "      <td>Perceptron</td>\n",
       "      <td>[4.5848277036785396e-11, 5.21560195993261e-12,...</td>\n",
       "      <td>1.226360e-16</td>\n",
       "      <td>0.013279</td>\n",
       "    </tr>\n",
       "    <tr>\n",
       "      <th>13</th>\n",
       "      <td>SGDClassifier</td>\n",
       "      <td>[1.09954052547076e-13, 1.8278713420812664e-13,...</td>\n",
       "      <td>2.437098e-16</td>\n",
       "      <td>0.019455</td>\n",
       "    </tr>\n",
       "    <tr>\n",
       "      <th>6</th>\n",
       "      <td>HistGradientBoostingClassifier</td>\n",
       "      <td>[1.7595252286751936e-06, 0.0002609395502510477...</td>\n",
       "      <td>1.335811e-07</td>\n",
       "      <td>0.166887</td>\n",
       "    </tr>\n",
       "    <tr>\n",
       "      <th>11</th>\n",
       "      <td>RandomForestClassifier</td>\n",
       "      <td>[0.006985349543369522, 0.1949286912698243, 5.6...</td>\n",
       "      <td>5.690640e-05</td>\n",
       "      <td>0.262557</td>\n",
       "    </tr>\n",
       "    <tr>\n",
       "      <th>8</th>\n",
       "      <td>LogisticRegression</td>\n",
       "      <td>[0.03078266843974974, 0.9372164927043907, 0.65...</td>\n",
       "      <td>1.220624e-04</td>\n",
       "      <td>0.439551</td>\n",
       "    </tr>\n",
       "    <tr>\n",
       "      <th>7</th>\n",
       "      <td>LinearSVC</td>\n",
       "      <td>[0.8011545674228215, 0.024776339308195762, 0.9...</td>\n",
       "      <td>1.909190e-04</td>\n",
       "      <td>0.408329</td>\n",
       "    </tr>\n",
       "    <tr>\n",
       "      <th>0</th>\n",
       "      <td>BaggingClassifier</td>\n",
       "      <td>[0.000657641197246586, 0.8224468561576985, 0.4...</td>\n",
       "      <td>6.576412e-04</td>\n",
       "      <td>0.352664</td>\n",
       "    </tr>\n",
       "    <tr>\n",
       "      <th>9</th>\n",
       "      <td>LogisticRegressionCV</td>\n",
       "      <td>[0.8064415104901852, 0.726587658740905, 0.4940...</td>\n",
       "      <td>1.301596e-01</td>\n",
       "      <td>0.712591</td>\n",
       "    </tr>\n",
       "    <tr>\n",
       "      <th>12</th>\n",
       "      <td>RidgeClassifier</td>\n",
       "      <td>[0.4382069403286941, 0.8631917240218011, 0.743...</td>\n",
       "      <td>1.308951e-01</td>\n",
       "      <td>0.622318</td>\n",
       "    </tr>\n",
       "    <tr>\n",
       "      <th>5</th>\n",
       "      <td>GradientBoostingClassifier</td>\n",
       "      <td>[0.16489942392539933, 0.817429193267663, 0.243...</td>\n",
       "      <td>1.441357e-01</td>\n",
       "      <td>0.543621</td>\n",
       "    </tr>\n",
       "    <tr>\n",
       "      <th>1</th>\n",
       "      <td>DecisionTreeClassifier</td>\n",
       "      <td>[1.0, 1.0, 1.0, 1.0, 1.0, 1.0, 1.0, 1.0, 1.0, ...</td>\n",
       "      <td>1.000000e+00</td>\n",
       "      <td>1.000000</td>\n",
       "    </tr>\n",
       "    <tr>\n",
       "      <th>2</th>\n",
       "      <td>DummyClassifier</td>\n",
       "      <td>[1.0, 1.0, 1.0, 1.0, 1.0, 1.0, 1.0, 1.0, 1.0, ...</td>\n",
       "      <td>1.000000e+00</td>\n",
       "      <td>1.000000</td>\n",
       "    </tr>\n",
       "    <tr>\n",
       "      <th>3</th>\n",
       "      <td>ExtraTreeClassifier</td>\n",
       "      <td>[1.0, 1.0, 1.0, 1.0, 1.0, 1.0, 1.0, 1.0, 1.0, ...</td>\n",
       "      <td>1.000000e+00</td>\n",
       "      <td>1.000000</td>\n",
       "    </tr>\n",
       "    <tr>\n",
       "      <th>4</th>\n",
       "      <td>ExtraTreesClassifier</td>\n",
       "      <td>[1.0, 1.0, 1.0, 1.0, 1.0, 1.0, 1.0, 1.0, 1.0, ...</td>\n",
       "      <td>1.000000e+00</td>\n",
       "      <td>1.000000</td>\n",
       "    </tr>\n",
       "  </tbody>\n",
       "</table>\n",
       "</div>"
      ],
      "text/plain": [
       "                              Name  \\\n",
       "10                      Perceptron   \n",
       "13                   SGDClassifier   \n",
       "6   HistGradientBoostingClassifier   \n",
       "11          RandomForestClassifier   \n",
       "8               LogisticRegression   \n",
       "7                        LinearSVC   \n",
       "0                BaggingClassifier   \n",
       "9             LogisticRegressionCV   \n",
       "12                 RidgeClassifier   \n",
       "5       GradientBoostingClassifier   \n",
       "1           DecisionTreeClassifier   \n",
       "2                  DummyClassifier   \n",
       "3              ExtraTreeClassifier   \n",
       "4             ExtraTreesClassifier   \n",
       "\n",
       "                                             p_values   min_p_value  \\\n",
       "10  [4.5848277036785396e-11, 5.21560195993261e-12,...  1.226360e-16   \n",
       "13  [1.09954052547076e-13, 1.8278713420812664e-13,...  2.437098e-16   \n",
       "6   [1.7595252286751936e-06, 0.0002609395502510477...  1.335811e-07   \n",
       "11  [0.006985349543369522, 0.1949286912698243, 5.6...  5.690640e-05   \n",
       "8   [0.03078266843974974, 0.9372164927043907, 0.65...  1.220624e-04   \n",
       "7   [0.8011545674228215, 0.024776339308195762, 0.9...  1.909190e-04   \n",
       "0   [0.000657641197246586, 0.8224468561576985, 0.4...  6.576412e-04   \n",
       "9   [0.8064415104901852, 0.726587658740905, 0.4940...  1.301596e-01   \n",
       "12  [0.4382069403286941, 0.8631917240218011, 0.743...  1.308951e-01   \n",
       "5   [0.16489942392539933, 0.817429193267663, 0.243...  1.441357e-01   \n",
       "1   [1.0, 1.0, 1.0, 1.0, 1.0, 1.0, 1.0, 1.0, 1.0, ...  1.000000e+00   \n",
       "2   [1.0, 1.0, 1.0, 1.0, 1.0, 1.0, 1.0, 1.0, 1.0, ...  1.000000e+00   \n",
       "3   [1.0, 1.0, 1.0, 1.0, 1.0, 1.0, 1.0, 1.0, 1.0, ...  1.000000e+00   \n",
       "4   [1.0, 1.0, 1.0, 1.0, 1.0, 1.0, 1.0, 1.0, 1.0, ...  1.000000e+00   \n",
       "\n",
       "    avg_p_value  \n",
       "10     0.013279  \n",
       "13     0.019455  \n",
       "6      0.166887  \n",
       "11     0.262557  \n",
       "8      0.439551  \n",
       "7      0.408329  \n",
       "0      0.352664  \n",
       "9      0.712591  \n",
       "12     0.622318  \n",
       "5      0.543621  \n",
       "1      1.000000  \n",
       "2      1.000000  \n",
       "3      1.000000  \n",
       "4      1.000000  "
      ]
     },
     "execution_count": 2,
     "metadata": {},
     "output_type": "execute_result"
    }
   ],
   "source": [
    "import pandas as pd\n",
    "from sample_weight_audit import paired_test\n",
    "import threadpoolctl\n",
    "\n",
    "threadpoolctl.threadpool_limits(limits=1)\n",
    "import warnings\n",
    "warnings.filterwarnings(\"ignore\")\n",
    "\n",
    "from sklearn import utils\n",
    "from inspect import signature\n",
    "\n",
    "ests = utils.all_estimators(type_filter='classifier')\n",
    "\n",
    "df = []\n",
    "\n",
    "for est in ests:\n",
    "    est = est[1]\n",
    "    if 'random_state' in signature(est).parameters and 'sample_weight' in signature(est.fit).parameters:\n",
    "\n",
    "        ## record in dataframe name of estimator, and all pvalues and minimum pvalue and average pvalue\n",
    "        try:\n",
    "            df.append(paired_test(est, n_features = 10, test='welch', max_seed=20,\n",
    "                train_size = 300, n_samples_per_cv_group=500,\n",
    "                rep_test_size = 20, max_repeats=5, n_classes=8,\n",
    "                correct_threshold=True, equal_var=False,issparse=False))\n",
    "        except ValueError:\n",
    "            print(est, \"with different random state led to the same predictions\")\n",
    "        \n",
    "df = pd.DataFrame(df)\n",
    "df.sort_values(by=['min_p_value'])\n",
    "\n"
   ]
  },
  {
   "cell_type": "code",
   "execution_count": null,
   "metadata": {},
   "outputs": [],
   "source": []
  }
 ],
 "metadata": {
  "kernelspec": {
   "display_name": "Python 3",
   "language": "python",
   "name": "python3"
  },
  "language_info": {
   "codemirror_mode": {
    "name": "ipython",
    "version": 3
   },
   "file_extension": ".py",
   "mimetype": "text/x-python",
   "name": "python",
   "nbconvert_exporter": "python",
   "pygments_lexer": "ipython3",
   "version": "3.12.4"
  }
 },
 "nbformat": 4,
 "nbformat_minor": 2
}
