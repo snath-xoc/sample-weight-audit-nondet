{
 "cells": [
  {
   "cell_type": "code",
   "execution_count": 3,
   "metadata": {},
   "outputs": [
    {
     "name": "stderr",
     "output_type": "stream",
     "text": [
      "100%|██████████| 20/20 [00:02<00:00,  8.54it/s]\n"
     ]
    },
    {
     "name": "stdout",
     "output_type": "stream",
     "text": [
      "<class 'sklearn.ensemble._weight_boosting.AdaBoostClassifier'> with different random state led to the same predictions\n"
     ]
    },
    {
     "name": "stderr",
     "output_type": "stream",
     "text": [
      "100%|██████████| 20/20 [00:01<00:00, 15.07it/s]\n"
     ]
    },
    {
     "name": "stdout",
     "output_type": "stream",
     "text": [
      "Finished looping till the maximum random state, 20 for estimator <class 'sklearn.ensemble._bagging.BaggingClassifier'> in ---- 1.3624529838562012 s---\n",
      "Average difference in medians is: 0.10999999999999996\n",
      "Minimum p-values:  0.00010801066916966142\n"
     ]
    },
    {
     "name": "stderr",
     "output_type": "stream",
     "text": [
      "100%|██████████| 20/20 [00:00<00:00, 199.12it/s]\n"
     ]
    },
    {
     "name": "stdout",
     "output_type": "stream",
     "text": [
      "Finished looping till the maximum random state, 20 for estimator <class 'sklearn.tree._classes.DecisionTreeClassifier'> in ---- 0.10765504837036133 s---\n",
      "Average difference in medians is: 0.0\n",
      "Minimum p-values:  1.0\n"
     ]
    },
    {
     "name": "stderr",
     "output_type": "stream",
     "text": [
      "100%|██████████| 20/20 [00:00<00:00, 2782.38it/s]\n"
     ]
    },
    {
     "name": "stdout",
     "output_type": "stream",
     "text": [
      "Finished looping till the maximum random state, 20 for estimator <class 'sklearn.dummy.DummyClassifier'> in ---- 0.013966798782348633 s---\n",
      "Average difference in medians is: 0.0\n",
      "Minimum p-values:  1.0\n"
     ]
    },
    {
     "name": "stderr",
     "output_type": "stream",
     "text": [
      "100%|██████████| 20/20 [00:00<00:00, 665.45it/s]\n"
     ]
    },
    {
     "name": "stdout",
     "output_type": "stream",
     "text": [
      "Finished looping till the maximum random state, 20 for estimator <class 'sklearn.tree._classes.ExtraTreeClassifier'> in ---- 0.035652875900268555 s---\n",
      "Average difference in medians is: 0.0\n",
      "Minimum p-values:  1.0\n"
     ]
    },
    {
     "name": "stderr",
     "output_type": "stream",
     "text": [
      "100%|██████████| 20/20 [00:02<00:00,  7.49it/s]\n"
     ]
    },
    {
     "name": "stdout",
     "output_type": "stream",
     "text": [
      "Finished looping till the maximum random state, 20 for estimator <class 'sklearn.ensemble._forest.ExtraTreesClassifier'> in ---- 2.747107982635498 s---\n",
      "Average difference in medians is: 0.0\n",
      "Minimum p-values:  1.0\n"
     ]
    },
    {
     "name": "stderr",
     "output_type": "stream",
     "text": [
      "100%|██████████| 20/20 [00:32<00:00,  1.60s/it]\n"
     ]
    },
    {
     "name": "stdout",
     "output_type": "stream",
     "text": [
      "Finished looping till the maximum random state, 20 for estimator <class 'sklearn.ensemble._gb.GradientBoostingClassifier'> in ---- 32.71989321708679 s---\n",
      "Average difference in medians is: -0.06794645867028339\n",
      "Minimum p-values:  0.2894938141731276\n"
     ]
    },
    {
     "name": "stderr",
     "output_type": "stream",
     "text": [
      "100%|██████████| 20/20 [00:23<00:00,  1.17s/it]\n"
     ]
    },
    {
     "name": "stdout",
     "output_type": "stream",
     "text": [
      "Finished looping till the maximum random state, 20 for estimator <class 'sklearn.ensemble._hist_gradient_boosting.gradient_boosting.HistGradientBoostingClassifier'> in ---- 24.042115688323975 s---\n",
      "Average difference in medians is: 0.03379283062107264\n",
      "Minimum p-values:  6.201910101085457e-06\n"
     ]
    },
    {
     "name": "stderr",
     "output_type": "stream",
     "text": [
      "100%|██████████| 20/20 [00:05<00:00,  3.97it/s]\n"
     ]
    },
    {
     "name": "stdout",
     "output_type": "stream",
     "text": [
      "Finished looping till the maximum random state, 20 for estimator <class 'sklearn.svm._classes.LinearSVC'> in ---- 5.1307713985443115 s---\n",
      "Average difference in medians is: 0.010275631705727761\n",
      "Minimum p-values:  0.0012793210947916293\n"
     ]
    },
    {
     "name": "stderr",
     "output_type": "stream",
     "text": [
      "100%|██████████| 20/20 [00:03<00:00,  5.64it/s]\n"
     ]
    },
    {
     "name": "stdout",
     "output_type": "stream",
     "text": [
      "Finished looping till the maximum random state, 20 for estimator <class 'sklearn.linear_model._logistic.LogisticRegression'> in ---- 3.6449100971221924 s---\n",
      "Average difference in medians is: -1.5039298252084165e-06\n",
      "Minimum p-values:  1.969836205281524e-07\n"
     ]
    },
    {
     "name": "stderr",
     "output_type": "stream",
     "text": [
      "100%|██████████| 20/20 [20:43<00:00, 62.20s/it]\n"
     ]
    },
    {
     "name": "stdout",
     "output_type": "stream",
     "text": [
      "Finished looping till the maximum random state, 20 for estimator <class 'sklearn.linear_model._logistic.LogisticRegressionCV'> in ---- 1264.33913397789 s---\n",
      "Average difference in medians is: -0.20267769446240988\n",
      "Minimum p-values:  1.4020934060427654e-10\n"
     ]
    },
    {
     "name": "stderr",
     "output_type": "stream",
     "text": [
      "100%|██████████| 20/20 [00:00<00:00, 22.98it/s]\n"
     ]
    },
    {
     "name": "stdout",
     "output_type": "stream",
     "text": [
      "<class 'sklearn.svm._classes.NuSVC'> with different random state led to the same predictions\n"
     ]
    },
    {
     "name": "stderr",
     "output_type": "stream",
     "text": [
      "100%|██████████| 20/20 [00:00<00:00, 185.95it/s]\n"
     ]
    },
    {
     "name": "stdout",
     "output_type": "stream",
     "text": [
      "Finished looping till the maximum random state, 20 for estimator <class 'sklearn.linear_model._perceptron.Perceptron'> in ---- 0.11863923072814941 s---\n",
      "Average difference in medians is: -683.2477591796696\n",
      "Minimum p-values:  7.406547750561431e-18\n"
     ]
    },
    {
     "name": "stderr",
     "output_type": "stream",
     "text": [
      "100%|██████████| 20/20 [00:05<00:00,  3.95it/s]\n"
     ]
    },
    {
     "name": "stdout",
     "output_type": "stream",
     "text": [
      "Finished looping till the maximum random state, 20 for estimator <class 'sklearn.ensemble._forest.RandomForestClassifier'> in ---- 5.174721956253052 s---\n",
      "Average difference in medians is: 0.05900000000000016\n",
      "Minimum p-values:  0.0006601057971951162\n"
     ]
    },
    {
     "name": "stderr",
     "output_type": "stream",
     "text": [
      "100%|██████████| 20/20 [00:00<00:00, 57.50it/s]\n"
     ]
    },
    {
     "name": "stdout",
     "output_type": "stream",
     "text": [
      "Finished looping till the maximum random state, 20 for estimator <class 'sklearn.linear_model._ridge.RidgeClassifier'> in ---- 0.36316728591918945 s---\n",
      "Average difference in medians is: -4.736156287385995e-05\n",
      "Minimum p-values:  0.04952966255541227\n"
     ]
    },
    {
     "name": "stderr",
     "output_type": "stream",
     "text": [
      "100%|██████████| 20/20 [00:00<00:00, 48.21it/s]\n"
     ]
    },
    {
     "name": "stdout",
     "output_type": "stream",
     "text": [
      "Finished looping till the maximum random state, 20 for estimator <class 'sklearn.linear_model._stochastic_gradient.SGDClassifier'> in ---- 0.42725086212158203 s---\n",
      "Average difference in medians is: -271.7354606269904\n",
      "Minimum p-values:  2.966886428996118e-10\n"
     ]
    },
    {
     "name": "stderr",
     "output_type": "stream",
     "text": [
      "100%|██████████| 20/20 [00:00<00:00, 38.17it/s]"
     ]
    },
    {
     "name": "stdout",
     "output_type": "stream",
     "text": [
      "<class 'sklearn.svm._classes.SVC'> with different random state led to the same predictions\n"
     ]
    },
    {
     "name": "stderr",
     "output_type": "stream",
     "text": [
      "\n"
     ]
    },
    {
     "data": {
      "text/html": [
       "<div>\n",
       "<style scoped>\n",
       "    .dataframe tbody tr th:only-of-type {\n",
       "        vertical-align: middle;\n",
       "    }\n",
       "\n",
       "    .dataframe tbody tr th {\n",
       "        vertical-align: top;\n",
       "    }\n",
       "\n",
       "    .dataframe thead th {\n",
       "        text-align: right;\n",
       "    }\n",
       "</style>\n",
       "<table border=\"1\" class=\"dataframe\">\n",
       "  <thead>\n",
       "    <tr style=\"text-align: right;\">\n",
       "      <th></th>\n",
       "      <th>Name</th>\n",
       "      <th>p_values</th>\n",
       "      <th>min_p_value</th>\n",
       "      <th>avg_p_value</th>\n",
       "    </tr>\n",
       "  </thead>\n",
       "  <tbody>\n",
       "    <tr>\n",
       "      <th>10</th>\n",
       "      <td>Perceptron</td>\n",
       "      <td>[8.389287308907715e-09, 7.406547750561431e-18,...</td>\n",
       "      <td>7.406548e-18</td>\n",
       "      <td>0.177504</td>\n",
       "    </tr>\n",
       "    <tr>\n",
       "      <th>9</th>\n",
       "      <td>LogisticRegressionCV</td>\n",
       "      <td>[3.910723625333324e-10, 1.4020934060427654e-10...</td>\n",
       "      <td>1.402093e-10</td>\n",
       "      <td>0.167563</td>\n",
       "    </tr>\n",
       "    <tr>\n",
       "      <th>13</th>\n",
       "      <td>SGDClassifier</td>\n",
       "      <td>[1.6534320224875545e-09, 1.9625823793408334e-0...</td>\n",
       "      <td>2.966886e-10</td>\n",
       "      <td>0.038883</td>\n",
       "    </tr>\n",
       "    <tr>\n",
       "      <th>8</th>\n",
       "      <td>LogisticRegression</td>\n",
       "      <td>[0.4804312076162225, 4.440905250276873e-05, 4....</td>\n",
       "      <td>1.969836e-07</td>\n",
       "      <td>0.096207</td>\n",
       "    </tr>\n",
       "    <tr>\n",
       "      <th>6</th>\n",
       "      <td>HistGradientBoostingClassifier</td>\n",
       "      <td>[0.0007402003009303233, 0.2708324126804889, 0....</td>\n",
       "      <td>6.201910e-06</td>\n",
       "      <td>0.264293</td>\n",
       "    </tr>\n",
       "    <tr>\n",
       "      <th>0</th>\n",
       "      <td>BaggingClassifier</td>\n",
       "      <td>[0.27182752267951765, 0.00010801066916966142, ...</td>\n",
       "      <td>1.080107e-04</td>\n",
       "      <td>0.193205</td>\n",
       "    </tr>\n",
       "    <tr>\n",
       "      <th>11</th>\n",
       "      <td>RandomForestClassifier</td>\n",
       "      <td>[0.0006601057971951162, 0.0008395264990085737,...</td>\n",
       "      <td>6.601058e-04</td>\n",
       "      <td>0.240897</td>\n",
       "    </tr>\n",
       "    <tr>\n",
       "      <th>7</th>\n",
       "      <td>LinearSVC</td>\n",
       "      <td>[0.3287337010841923, 0.14851041094061876, 0.00...</td>\n",
       "      <td>1.279321e-03</td>\n",
       "      <td>0.121744</td>\n",
       "    </tr>\n",
       "    <tr>\n",
       "      <th>12</th>\n",
       "      <td>RidgeClassifier</td>\n",
       "      <td>[0.04952966255541227, 0.28701170477913546, 0.8...</td>\n",
       "      <td>4.952966e-02</td>\n",
       "      <td>0.428027</td>\n",
       "    </tr>\n",
       "    <tr>\n",
       "      <th>5</th>\n",
       "      <td>GradientBoostingClassifier</td>\n",
       "      <td>[0.2894938141731276, 0.7938756459424917, 0.589...</td>\n",
       "      <td>2.894938e-01</td>\n",
       "      <td>0.589019</td>\n",
       "    </tr>\n",
       "    <tr>\n",
       "      <th>1</th>\n",
       "      <td>DecisionTreeClassifier</td>\n",
       "      <td>[1.0, 1.0, 1.0, 1.0, 1.0]</td>\n",
       "      <td>1.000000e+00</td>\n",
       "      <td>1.000000</td>\n",
       "    </tr>\n",
       "    <tr>\n",
       "      <th>2</th>\n",
       "      <td>DummyClassifier</td>\n",
       "      <td>[1.0, 1.0, 1.0, 1.0, 1.0]</td>\n",
       "      <td>1.000000e+00</td>\n",
       "      <td>1.000000</td>\n",
       "    </tr>\n",
       "    <tr>\n",
       "      <th>3</th>\n",
       "      <td>ExtraTreeClassifier</td>\n",
       "      <td>[1.0, 1.0, 1.0, 1.0, 1.0]</td>\n",
       "      <td>1.000000e+00</td>\n",
       "      <td>1.000000</td>\n",
       "    </tr>\n",
       "    <tr>\n",
       "      <th>4</th>\n",
       "      <td>ExtraTreesClassifier</td>\n",
       "      <td>[1.0, 1.0, 1.0, 1.0, 1.0]</td>\n",
       "      <td>1.000000e+00</td>\n",
       "      <td>1.000000</td>\n",
       "    </tr>\n",
       "  </tbody>\n",
       "</table>\n",
       "</div>"
      ],
      "text/plain": [
       "                              Name  \\\n",
       "10                      Perceptron   \n",
       "9             LogisticRegressionCV   \n",
       "13                   SGDClassifier   \n",
       "8               LogisticRegression   \n",
       "6   HistGradientBoostingClassifier   \n",
       "0                BaggingClassifier   \n",
       "11          RandomForestClassifier   \n",
       "7                        LinearSVC   \n",
       "12                 RidgeClassifier   \n",
       "5       GradientBoostingClassifier   \n",
       "1           DecisionTreeClassifier   \n",
       "2                  DummyClassifier   \n",
       "3              ExtraTreeClassifier   \n",
       "4             ExtraTreesClassifier   \n",
       "\n",
       "                                             p_values   min_p_value  \\\n",
       "10  [8.389287308907715e-09, 7.406547750561431e-18,...  7.406548e-18   \n",
       "9   [3.910723625333324e-10, 1.4020934060427654e-10...  1.402093e-10   \n",
       "13  [1.6534320224875545e-09, 1.9625823793408334e-0...  2.966886e-10   \n",
       "8   [0.4804312076162225, 4.440905250276873e-05, 4....  1.969836e-07   \n",
       "6   [0.0007402003009303233, 0.2708324126804889, 0....  6.201910e-06   \n",
       "0   [0.27182752267951765, 0.00010801066916966142, ...  1.080107e-04   \n",
       "11  [0.0006601057971951162, 0.0008395264990085737,...  6.601058e-04   \n",
       "7   [0.3287337010841923, 0.14851041094061876, 0.00...  1.279321e-03   \n",
       "12  [0.04952966255541227, 0.28701170477913546, 0.8...  4.952966e-02   \n",
       "5   [0.2894938141731276, 0.7938756459424917, 0.589...  2.894938e-01   \n",
       "1                           [1.0, 1.0, 1.0, 1.0, 1.0]  1.000000e+00   \n",
       "2                           [1.0, 1.0, 1.0, 1.0, 1.0]  1.000000e+00   \n",
       "3                           [1.0, 1.0, 1.0, 1.0, 1.0]  1.000000e+00   \n",
       "4                           [1.0, 1.0, 1.0, 1.0, 1.0]  1.000000e+00   \n",
       "\n",
       "    avg_p_value  \n",
       "10     0.177504  \n",
       "9      0.167563  \n",
       "13     0.038883  \n",
       "8      0.096207  \n",
       "6      0.264293  \n",
       "0      0.193205  \n",
       "11     0.240897  \n",
       "7      0.121744  \n",
       "12     0.428027  \n",
       "5      0.589019  \n",
       "1      1.000000  \n",
       "2      1.000000  \n",
       "3      1.000000  \n",
       "4      1.000000  "
      ]
     },
     "execution_count": 3,
     "metadata": {},
     "output_type": "execute_result"
    }
   ],
   "source": [
    "import pandas as pd\n",
    "import test_on_representative_sample as tors\n",
    "import threadpoolctl\n",
    "\n",
    "threadpoolctl.threadpool_limits(limits=1)\n",
    "import warnings\n",
    "warnings.filterwarnings(\"ignore\")\n",
    "\n",
    "from sklearn import utils\n",
    "from inspect import signature\n",
    "\n",
    "ests = utils.all_estimators(type_filter='classifier')\n",
    "\n",
    "df = []\n",
    "\n",
    "for est in ests:\n",
    "    est = est[1]\n",
    "    if 'random_state' in signature(est).parameters and 'sample_weight' in signature(est.fit).parameters:\n",
    "\n",
    "        ## record in dataframe name of estimator, and all pvalues and minimum pvalue and average pvalue\n",
    "        try:\n",
    "            df.append(tors.paired_test(est, n_features = 10, test='welch', max_seed=20,\n",
    "                    train_size = 300, n_samples_per_cv_group=500,\n",
    "                    rep_test_size = 5, random_rejection_level = 0.1, max_repeats=3,\n",
    "                    correct_threshold=True, equal_var=False))\n",
    "        except ValueError:\n",
    "            print(est, \"with different random state led to the same predictions\")\n",
    "        \n",
    "df = pd.DataFrame(df)\n",
    "df.sort_values(by=['min_p_value'])\n",
    "\n"
   ]
  },
  {
   "cell_type": "code",
   "execution_count": null,
   "metadata": {},
   "outputs": [],
   "source": []
  }
 ],
 "metadata": {
  "kernelspec": {
   "display_name": "Python 3",
   "language": "python",
   "name": "python3"
  },
  "language_info": {
   "codemirror_mode": {
    "name": "ipython",
    "version": 3
   },
   "file_extension": ".py",
   "mimetype": "text/x-python",
   "name": "python",
   "nbconvert_exporter": "python",
   "pygments_lexer": "ipython3",
   "version": "3.12.4"
  }
 },
 "nbformat": 4,
 "nbformat_minor": 2
}
