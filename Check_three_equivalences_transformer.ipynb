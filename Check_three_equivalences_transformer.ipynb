{
 "cells": [
  {
   "cell_type": "code",
   "execution_count": 2,
   "metadata": {},
   "outputs": [
    {
     "name": "stderr",
     "output_type": "stream",
     "text": [
      "100%|██████████| 20/20 [00:00<00:00, 341.05it/s]\n"
     ]
    },
    {
     "name": "stdout",
     "output_type": "stream",
     "text": [
      "(20, 40)\n",
      "Finished looping till the maximum random state, 20 for estimator <class 'sklearn.cluster._bisect_k_means.BisectingKMeans'> in ---- 0.08571910858154297 s---\n",
      "Average difference in medians is: 0.020886909596459655\n",
      "Minimum p-values:  0.8863060031416423\n"
     ]
    },
    {
     "name": "stderr",
     "output_type": "stream",
     "text": [
      "100%|██████████| 20/20 [00:00<00:00, 797.45it/s]\n"
     ]
    },
    {
     "name": "stdout",
     "output_type": "stream",
     "text": [
      "(20, 12)\n",
      "Finished looping till the maximum random state, 20 for estimator <class 'sklearn.preprocessing._discretization.KBinsDiscretizer'> in ---- 0.03486299514770508 s---\n",
      "Average difference in medians is: 0.04754404673732693\n",
      "Minimum p-values:  0.1616660146850173\n"
     ]
    },
    {
     "name": "stderr",
     "output_type": "stream",
     "text": [
      "100%|██████████| 20/20 [00:00<00:00, 443.70it/s]\n"
     ]
    },
    {
     "name": "stdout",
     "output_type": "stream",
     "text": [
      "(20, 40)\n",
      "Finished looping till the maximum random state, 20 for estimator <class 'sklearn.cluster._kmeans.KMeans'> in ---- 0.07267022132873535 s---\n",
      "Average difference in medians is: 0.00012576907685994952\n",
      "Minimum p-values:  0.9968459965462277\n"
     ]
    },
    {
     "name": "stderr",
     "output_type": "stream",
     "text": [
      "100%|██████████| 20/20 [00:00<00:00, 221.34it/s]\n"
     ]
    },
    {
     "name": "stdout",
     "output_type": "stream",
     "text": [
      "(20, 40)\n",
      "Finished looping till the maximum random state, 20 for estimator <class 'sklearn.cluster._kmeans.MiniBatchKMeans'> in ---- 0.11887788772583008 s---\n",
      "Average difference in medians is: 0.19362229931495228\n",
      "Minimum p-values:  0.007103802133918069\n"
     ]
    },
    {
     "name": "stderr",
     "output_type": "stream",
     "text": [
      "100%|██████████| 20/20 [00:00<00:00, 40.07it/s]"
     ]
    },
    {
     "name": "stdout",
     "output_type": "stream",
     "text": [
      "(20, 5)\n",
      "Finished looping till the maximum random state, 20 for estimator <class 'sklearn.ensemble._forest.RandomTreesEmbedding'> in ---- 0.5128841400146484 s---\n",
      "Average difference in medians is: 0.024999999999999644\n",
      "Minimum p-values:  0.8212551972500558\n"
     ]
    },
    {
     "name": "stderr",
     "output_type": "stream",
     "text": [
      "\n"
     ]
    },
    {
     "data": {
      "text/html": [
       "<div>\n",
       "<style scoped>\n",
       "    .dataframe tbody tr th:only-of-type {\n",
       "        vertical-align: middle;\n",
       "    }\n",
       "\n",
       "    .dataframe tbody tr th {\n",
       "        vertical-align: top;\n",
       "    }\n",
       "\n",
       "    .dataframe thead th {\n",
       "        text-align: right;\n",
       "    }\n",
       "</style>\n",
       "<table border=\"1\" class=\"dataframe\">\n",
       "  <thead>\n",
       "    <tr style=\"text-align: right;\">\n",
       "      <th></th>\n",
       "      <th>Name</th>\n",
       "      <th>p_values</th>\n",
       "      <th>min_p_value</th>\n",
       "      <th>avg_p_value</th>\n",
       "    </tr>\n",
       "  </thead>\n",
       "  <tbody>\n",
       "    <tr>\n",
       "      <th>3</th>\n",
       "      <td>MiniBatchKMeans</td>\n",
       "      <td>[0.8997076197813573, 0.2475693626566429, 0.007...</td>\n",
       "      <td>0.007104</td>\n",
       "      <td>0.522623</td>\n",
       "    </tr>\n",
       "    <tr>\n",
       "      <th>1</th>\n",
       "      <td>KBinsDiscretizer</td>\n",
       "      <td>[0.6992941770648674, 0.5139246239718349, 0.847...</td>\n",
       "      <td>0.161666</td>\n",
       "      <td>0.630373</td>\n",
       "    </tr>\n",
       "    <tr>\n",
       "      <th>4</th>\n",
       "      <td>RandomTreesEmbedding</td>\n",
       "      <td>[0.944854214605938, 0.8212551972500558, 0.9894...</td>\n",
       "      <td>0.821255</td>\n",
       "      <td>0.922018</td>\n",
       "    </tr>\n",
       "    <tr>\n",
       "      <th>0</th>\n",
       "      <td>BisectingKMeans</td>\n",
       "      <td>[0.984151863577294, 0.9827845037630594, 0.9840...</td>\n",
       "      <td>0.886306</td>\n",
       "      <td>0.980222</td>\n",
       "    </tr>\n",
       "    <tr>\n",
       "      <th>2</th>\n",
       "      <td>KMeans</td>\n",
       "      <td>[1.0, 0.9999999999999978, 1.0, 0.9977694239134...</td>\n",
       "      <td>0.996846</td>\n",
       "      <td>0.999486</td>\n",
       "    </tr>\n",
       "  </tbody>\n",
       "</table>\n",
       "</div>"
      ],
      "text/plain": [
       "                   Name                                           p_values  \\\n",
       "3       MiniBatchKMeans  [0.8997076197813573, 0.2475693626566429, 0.007...   \n",
       "1      KBinsDiscretizer  [0.6992941770648674, 0.5139246239718349, 0.847...   \n",
       "4  RandomTreesEmbedding  [0.944854214605938, 0.8212551972500558, 0.9894...   \n",
       "0       BisectingKMeans  [0.984151863577294, 0.9827845037630594, 0.9840...   \n",
       "2                KMeans  [1.0, 0.9999999999999978, 1.0, 0.9977694239134...   \n",
       "\n",
       "   min_p_value  avg_p_value  \n",
       "3     0.007104     0.522623  \n",
       "1     0.161666     0.630373  \n",
       "4     0.821255     0.922018  \n",
       "0     0.886306     0.980222  \n",
       "2     0.996846     0.999486  "
      ]
     },
     "execution_count": 2,
     "metadata": {},
     "output_type": "execute_result"
    }
   ],
   "source": [
    "import pandas as pd\n",
    "import test_on_representative_sample as tors\n",
    "import threadpoolctl\n",
    "\n",
    "threadpoolctl.threadpool_limits(limits=1)\n",
    "import warnings\n",
    "warnings.filterwarnings(\"ignore\")\n",
    "\n",
    "from sklearn import utils\n",
    "from inspect import signature\n",
    "\n",
    "ests = utils.all_estimators(type_filter='transformer')\n",
    "\n",
    "df = []\n",
    "\n",
    "for est in ests:\n",
    "    est = est[1]\n",
    "    \n",
    "    if 'random_state' in signature(est).parameters and 'sample_weight' in signature(est.fit).parameters:\n",
    "        ## record in dataframe name of estimator, and all pvalues and minimum pvalue and average pvalue\n",
    "        df.append(tors.paired_test(est, n_features = 10, test='welch', max_seed=20,\n",
    "                    train_size = 300, n_samples_per_cv_group=500,\n",
    "                    rep_test_size = 5, random_rejection_level = 0.1, max_repeats=3,\n",
    "                    correct_threshold=True, equal_var=False))\n",
    "        #except ValueError:\n",
    "        #    print(est, \"with different random state led to the same predictions\")\n",
    "        \n",
    "df = pd.DataFrame(df)\n",
    "df.sort_values(by=['min_p_value'])\n",
    "\n"
   ]
  },
  {
   "cell_type": "code",
   "execution_count": 3,
   "metadata": {},
   "outputs": [
    {
     "data": {
      "text/html": [
       "<div>\n",
       "<style scoped>\n",
       "    .dataframe tbody tr th:only-of-type {\n",
       "        vertical-align: middle;\n",
       "    }\n",
       "\n",
       "    .dataframe tbody tr th {\n",
       "        vertical-align: top;\n",
       "    }\n",
       "\n",
       "    .dataframe thead th {\n",
       "        text-align: right;\n",
       "    }\n",
       "</style>\n",
       "<table border=\"1\" class=\"dataframe\">\n",
       "  <thead>\n",
       "    <tr style=\"text-align: right;\">\n",
       "      <th></th>\n",
       "      <th>Name</th>\n",
       "      <th>p_values</th>\n",
       "      <th>min_p_value</th>\n",
       "      <th>avg_p_value</th>\n",
       "    </tr>\n",
       "  </thead>\n",
       "  <tbody>\n",
       "    <tr>\n",
       "      <th>3</th>\n",
       "      <td>MiniBatchKMeans</td>\n",
       "      <td>[0.8997076197813573, 0.2475693626566429, 0.007...</td>\n",
       "      <td>0.007104</td>\n",
       "      <td>0.522623</td>\n",
       "    </tr>\n",
       "    <tr>\n",
       "      <th>1</th>\n",
       "      <td>KBinsDiscretizer</td>\n",
       "      <td>[0.6992941770648674, 0.5139246239718349, 0.847...</td>\n",
       "      <td>0.161666</td>\n",
       "      <td>0.630373</td>\n",
       "    </tr>\n",
       "    <tr>\n",
       "      <th>4</th>\n",
       "      <td>RandomTreesEmbedding</td>\n",
       "      <td>[0.944854214605938, 0.8212551972500558, 0.9894...</td>\n",
       "      <td>0.821255</td>\n",
       "      <td>0.922018</td>\n",
       "    </tr>\n",
       "    <tr>\n",
       "      <th>0</th>\n",
       "      <td>BisectingKMeans</td>\n",
       "      <td>[0.984151863577294, 0.9827845037630594, 0.9840...</td>\n",
       "      <td>0.886306</td>\n",
       "      <td>0.980222</td>\n",
       "    </tr>\n",
       "    <tr>\n",
       "      <th>2</th>\n",
       "      <td>KMeans</td>\n",
       "      <td>[1.0, 0.9999999999999978, 1.0, 0.9977694239134...</td>\n",
       "      <td>0.996846</td>\n",
       "      <td>0.999486</td>\n",
       "    </tr>\n",
       "  </tbody>\n",
       "</table>\n",
       "</div>"
      ],
      "text/plain": [
       "                   Name                                           p_values  \\\n",
       "3       MiniBatchKMeans  [0.8997076197813573, 0.2475693626566429, 0.007...   \n",
       "1      KBinsDiscretizer  [0.6992941770648674, 0.5139246239718349, 0.847...   \n",
       "4  RandomTreesEmbedding  [0.944854214605938, 0.8212551972500558, 0.9894...   \n",
       "0       BisectingKMeans  [0.984151863577294, 0.9827845037630594, 0.9840...   \n",
       "2                KMeans  [1.0, 0.9999999999999978, 1.0, 0.9977694239134...   \n",
       "\n",
       "   min_p_value  avg_p_value  \n",
       "3     0.007104     0.522623  \n",
       "1     0.161666     0.630373  \n",
       "4     0.821255     0.922018  \n",
       "0     0.886306     0.980222  \n",
       "2     0.996846     0.999486  "
      ]
     },
     "execution_count": 3,
     "metadata": {},
     "output_type": "execute_result"
    }
   ],
   "source": [
    "df = pd.DataFrame(df)\n",
    "df.sort_values(by=['min_p_value'])"
   ]
  },
  {
   "cell_type": "code",
   "execution_count": null,
   "metadata": {},
   "outputs": [],
   "source": []
  }
 ],
 "metadata": {
  "kernelspec": {
   "display_name": "Python 3",
   "language": "python",
   "name": "python3"
  },
  "language_info": {
   "codemirror_mode": {
    "name": "ipython",
    "version": 3
   },
   "file_extension": ".py",
   "mimetype": "text/x-python",
   "name": "python",
   "nbconvert_exporter": "python",
   "pygments_lexer": "ipython3",
   "version": "3.12.4"
  }
 },
 "nbformat": 4,
 "nbformat_minor": 2
}
